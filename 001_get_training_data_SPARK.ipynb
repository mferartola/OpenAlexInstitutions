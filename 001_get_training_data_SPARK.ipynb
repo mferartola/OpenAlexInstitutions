{
  "cells": [
    {
      "cell_type": "markdown",
      "metadata": {
        "id": "view-in-github",
        "colab_type": "text"
      },
      "source": [
        "<a href=\"https://colab.research.google.com/github/mferartola/OpenAlexInstitutions/blob/main/001_get_training_data_SPARK.ipynb\" target=\"_parent\"><img src=\"https://colab.research.google.com/assets/colab-badge.svg\" alt=\"Open In Colab\"/></a>"
      ]
    },
    {
      "cell_type": "code",
      "execution_count": null,
      "metadata": {
        "colab": {
          "base_uri": "https://localhost:8080/"
        },
        "id": "6kA3x79eY801",
        "outputId": "86411ff5-624b-4fca-9569-9f01017a2b06"
      },
      "outputs": [
        {
          "output_type": "stream",
          "name": "stdout",
          "text": [
            "Collecting boto3\n",
            "  Downloading boto3-1.35.78-py3-none-any.whl.metadata (6.7 kB)\n",
            "Collecting botocore<1.36.0,>=1.35.78 (from boto3)\n",
            "  Downloading botocore-1.35.78-py3-none-any.whl.metadata (5.7 kB)\n",
            "Collecting jmespath<2.0.0,>=0.7.1 (from boto3)\n",
            "  Downloading jmespath-1.0.1-py3-none-any.whl.metadata (7.6 kB)\n",
            "Collecting s3transfer<0.11.0,>=0.10.0 (from boto3)\n",
            "  Downloading s3transfer-0.10.4-py3-none-any.whl.metadata (1.7 kB)\n",
            "Requirement already satisfied: python-dateutil<3.0.0,>=2.1 in /usr/local/lib/python3.10/dist-packages (from botocore<1.36.0,>=1.35.78->boto3) (2.8.2)\n",
            "Requirement already satisfied: urllib3!=2.2.0,<3,>=1.25.4 in /usr/local/lib/python3.10/dist-packages (from botocore<1.36.0,>=1.35.78->boto3) (2.2.3)\n",
            "Requirement already satisfied: six>=1.5 in /usr/local/lib/python3.10/dist-packages (from python-dateutil<3.0.0,>=2.1->botocore<1.36.0,>=1.35.78->boto3) (1.16.0)\n",
            "Downloading boto3-1.35.78-py3-none-any.whl (139 kB)\n",
            "\u001b[2K   \u001b[90m━━━━━━━━━━━━━━━━━━━━━━━━━━━━━━━━━━━━━━━━\u001b[0m \u001b[32m139.2/139.2 kB\u001b[0m \u001b[31m2.6 MB/s\u001b[0m eta \u001b[36m0:00:00\u001b[0m\n",
            "\u001b[?25hDownloading botocore-1.35.78-py3-none-any.whl (13.2 MB)\n",
            "\u001b[2K   \u001b[90m━━━━━━━━━━━━━━━━━━━━━━━━━━━━━━━━━━━━━━━━\u001b[0m \u001b[32m13.2/13.2 MB\u001b[0m \u001b[31m36.3 MB/s\u001b[0m eta \u001b[36m0:00:00\u001b[0m\n",
            "\u001b[?25hDownloading jmespath-1.0.1-py3-none-any.whl (20 kB)\n",
            "Downloading s3transfer-0.10.4-py3-none-any.whl (83 kB)\n",
            "\u001b[2K   \u001b[90m━━━━━━━━━━━━━━━━━━━━━━━━━━━━━━━━━━━━━━━━\u001b[0m \u001b[32m83.2/83.2 kB\u001b[0m \u001b[31m3.9 MB/s\u001b[0m eta \u001b[36m0:00:00\u001b[0m\n",
            "\u001b[?25hInstalling collected packages: jmespath, botocore, s3transfer, boto3\n",
            "Successfully installed boto3-1.35.78 botocore-1.35.78 jmespath-1.0.1 s3transfer-0.10.4\n",
            "Requirement already satisfied: fsspec in /usr/local/lib/python3.10/dist-packages (2024.10.0)\n",
            "Requirement already satisfied: pyspark in /usr/local/lib/python3.10/dist-packages (3.5.3)\n",
            "Requirement already satisfied: py4j==0.10.9.7 in /usr/local/lib/python3.10/dist-packages (from pyspark) (0.10.9.7)\n",
            "Collecting pyalex\n",
            "  Downloading pyalex-0.15.1-py3-none-any.whl.metadata (13 kB)\n",
            "Requirement already satisfied: requests in /usr/local/lib/python3.10/dist-packages (from pyalex) (2.32.3)\n",
            "Requirement already satisfied: urllib3 in /usr/local/lib/python3.10/dist-packages (from pyalex) (2.2.3)\n",
            "Requirement already satisfied: charset-normalizer<4,>=2 in /usr/local/lib/python3.10/dist-packages (from requests->pyalex) (3.4.0)\n",
            "Requirement already satisfied: idna<4,>=2.5 in /usr/local/lib/python3.10/dist-packages (from requests->pyalex) (3.10)\n",
            "Requirement already satisfied: certifi>=2017.4.17 in /usr/local/lib/python3.10/dist-packages (from requests->pyalex) (2024.8.30)\n",
            "Downloading pyalex-0.15.1-py3-none-any.whl (11 kB)\n",
            "Installing collected packages: pyalex\n",
            "Successfully installed pyalex-0.15.1\n",
            "\u001b[31mERROR: Invalid requirement: 'colab-convert##': Expected end or semicolon (after name and no valid version specifier)\n",
            "    colab-convert##\n",
            "                 ^\u001b[0m\u001b[31m\n",
            "\u001b[0m"
          ]
        }
      ],
      "source": [
        "##probando\n",
        "import pickle\n",
        "!pip install boto3\n",
        "import boto3\n",
        "!pip install fsspec\n",
        "import fsspec\n",
        "import re\n",
        "import json\n",
        "import pandas as pd\n",
        "import numpy as np\n",
        "import matplotlib.pyplot as plt\n",
        "\n",
        "!pip install pyspark\n",
        "from pyspark.context import SparkContext\n",
        "from pyspark.sql import SparkSession\n",
        "#sc = spark.sparkContext         # Since Spark 2.0 'spark' is a\n",
        "#SparkSession object that is by default created upfront and available\n",
        "#in Spark shell, you need to explicitly create SparkSession object by\n",
        "#using builder\n",
        "spark = SparkSession.builder.getOrCreate()\n",
        "#sc = SparkContext().getOrCreate()\n",
        "sc = SparkContext._active_spark_context #devuelve la instancia existente\n",
        "from pyspark.sql import SQLContext\n",
        "from pyspark.sql import functions as F\n",
        "from pyspark.sql.window import Window\n",
        "from pyspark.sql.types import IntegerType, StringType, FloatType, ArrayType, DoubleType, StructType, StructField\n",
        "sqlContext = SQLContext(sc,spark)\n",
        "\n",
        "from google.colab import drive\n",
        "\n",
        "import os\n",
        "\n",
        "!pip install pyalex\n",
        "import pyalex\n",
        "from pyalex import Works, Authors, Sources, Institutions, Topics, Publishers, Funders\n",
        "from pyalex import config\n",
        "\n",
        "!pip install colab-convert## comentar en script\n",
        "\n"
      ]
    },
    {
      "cell_type": "code",
      "execution_count": null,
      "metadata": {
        "id": "B17TKGR3Y803"
      },
      "outputs": [],
      "source": []
    },
    {
      "cell_type": "code",
      "execution_count": null,
      "metadata": {
        "colab": {
          "base_uri": "https://localhost:8080/"
        },
        "id": "wkefE1c1ZJjH",
        "outputId": "481cdb65-fce6-4fd3-8be4-cfe32814dd81"
      },
      "outputs": [
        {
          "output_type": "stream",
          "name": "stdout",
          "text": [
            "Mounted at /content/drive\n"
          ]
        }
      ],
      "source": [
        "drive.mount('/content/drive') ### comentar en script"
      ]
    },
    {
      "cell_type": "markdown",
      "metadata": {
        "id": "VmKqcV0fh14s"
      },
      "source": [
        "**Cambiar path para correr desde otro lado**"
      ]
    },
    {
      "cell_type": "code",
      "execution_count": null,
      "metadata": {
        "id": "h_yrzVlKbWdn"
      },
      "outputs": [],
      "source": [
        "base_path = '/content/drive/MyDrive/openalex-institution-parsing/'\n",
        "\n",
        "base_save_path = \"/content/drive/MyDrive/openalex-institution-parsing/V2/002_Model/\"\n",
        "\n",
        "iteration_save_path = \"/content/drive/MyDrive/openalex-institution-parsing/V2/002_Model/\"\n"
      ]
    },
    {
      "cell_type": "markdown",
      "metadata": {
        "id": "445hVw9cY806"
      },
      "source": [
        "### Getting all data (From saved OpenAlex DB snapshot)"
      ]
    },
    {
      "cell_type": "code",
      "execution_count": null,
      "metadata": {
        "colab": {
          "base_uri": "https://localhost:8080/"
        },
        "id": "Mm-2Kv5sY808",
        "outputId": "b67582a2-0548-4143-d39b-d6f216659466"
      },
      "outputs": [
        {
          "output_type": "stream",
          "name": "stdout",
          "text": [
            "200\n",
            "131\n",
            "0\n",
            "331\n",
            "                                id                        ror  \\\n",
            "0  https://openalex.org/I151201029  https://ror.org/03cqe8w59   \n",
            "1   https://openalex.org/I24354313  https://ror.org/0081fs513   \n",
            "\n",
            "                                        display_name country_code        type  \\\n",
            "0  Consejo Nacional de Investigaciones Científica...           AR  government   \n",
            "1                         University of Buenos Aires           AR   education   \n",
            "\n",
            "                                             type_id  \\\n",
            "0  https://openalex.org/institution-types/government   \n",
            "1   https://openalex.org/institution-types/education   \n",
            "\n",
            "                                             lineage  \\\n",
            "0  [https://openalex.org/I151201029, https://open...   \n",
            "1                   [https://openalex.org/I24354313]   \n",
            "\n",
            "                homepage_url  \\\n",
            "0  http://www.conicet.gov.ar   \n",
            "1         http://www.uba.ar/   \n",
            "\n",
            "                                           image_url  \\\n",
            "0  https://commons.wikimedia.org/w/index.php?titl...   \n",
            "1  https://commons.wikimedia.org/w/index.php?titl...   \n",
            "\n",
            "                                 image_thumbnail_url  ...  \\\n",
            "0  https://commons.wikimedia.org/w/index.php?titl...  ...   \n",
            "1  https://commons.wikimedia.org/w/index.php?titl...  ...   \n",
            "\n",
            "                                               roles  \\\n",
            "0  [{'role': 'funder', 'id': 'https://openalex.or...   \n",
            "1  [{'role': 'funder', 'id': 'https://openalex.or...   \n",
            "\n",
            "                                              topics  \\\n",
            "0  [{'id': 'https://openalex.org/T10487', 'displa...   \n",
            "1  [{'id': 'https://openalex.org/T12609', 'displa...   \n",
            "\n",
            "                                         topic_share  \\\n",
            "0  [{'id': 'https://openalex.org/T12036', 'displa...   \n",
            "1  [{'id': 'https://openalex.org/T12036', 'displa...   \n",
            "\n",
            "                                          x_concepts  is_super_system  \\\n",
            "0  [{'id': 'https://openalex.org/C86803240', 'wik...            False   \n",
            "1  [{'id': 'https://openalex.org/C86803240', 'wik...            False   \n",
            "\n",
            "                                       works_api_url  \\\n",
            "0  https://api.openalex.org/works?filter=institut...   \n",
            "1  https://api.openalex.org/works?filter=institut...   \n",
            "\n",
            "                 updated_date created_date affiliation_id     ror_id  \n",
            "0  2024-12-07T04:26:00.768039   2016-06-24      151201029  03cqe8w59  \n",
            "1  2024-12-06T19:00:22.405096   2016-06-24       24354313  0081fs513  \n",
            "\n",
            "[2 rows x 31 columns]\n",
            "(331, 31)\n"
          ]
        }
      ],
      "source": [
        "#institutions = spark.read.parquet(f\"{base_save_path}/OA_static_institutions_single_file.parquet\") \\\n",
        " #   .filter(F.col('ror_id')!='')\n",
        "\n",
        "### ALTERNATIVA DE STATIC INSTITUTIONS: BAJAR CON PYALEX PARTE DEL OBJETO INSTITUTIONS\n",
        "\n",
        "config.max_retries = 0\n",
        "config.retry_backoff_factor = 0.1\n",
        "config.retry_http_codes = [429, 500, 503]\n",
        "\n",
        "pager = Institutions().filter(country_code=\"AR\").paginate(method=\"page\",per_page=200)\n",
        "\n",
        "listaDeInstituciones = list()\n",
        "for page in pager:\n",
        "    print(len(page))\n",
        "    listaDeInstituciones += page\n",
        "\n",
        "print(len(listaDeInstituciones))\n",
        "\n",
        "institutions_df=pd.DataFrame(listaDeInstituciones)\n",
        "institutions_df['affiliation_id'] = institutions_df['id'].apply(lambda x: x.split(\"/\")[-1])\n",
        "institutions_df['affiliation_id']=institutions_df['affiliation_id'].apply(lambda x: x.split(\"I\")[-1])\n",
        "institutions_df['ror_id'] = institutions_df['ror'].apply(lambda x: x.split(\"/\")[-1])\n",
        "print(institutions_df.head(n=2))\n",
        "print(institutions_df.shape)"
      ]
    },
    {
      "cell_type": "code",
      "execution_count": null,
      "metadata": {
        "colab": {
          "base_uri": "https://localhost:8080/"
        },
        "id": "XZUIe8gZosrC",
        "outputId": "3f68f1f0-dfe6-4f65-87fa-b60f1ae4c4d4"
      },
      "outputs": [
        {
          "output_type": "stream",
          "name": "stdout",
          "text": [
            "200\n",
            "200\n",
            "200\n",
            "200\n",
            "200\n",
            "200\n",
            "200\n",
            "200\n",
            "200\n",
            "200\n",
            "200\n",
            "200\n",
            "200\n",
            "200\n",
            "200\n",
            "200\n",
            "200\n",
            "200\n",
            "200\n",
            "200\n",
            "200\n",
            "200\n",
            "200\n",
            "200\n",
            "200\n",
            "200\n",
            "200\n",
            "200\n",
            "200\n",
            "200\n",
            "200\n",
            "200\n",
            "200\n",
            "200\n",
            "200\n",
            "200\n",
            "200\n",
            "200\n",
            "200\n",
            "200\n",
            "200\n",
            "200\n",
            "200\n",
            "200\n",
            "200\n",
            "200\n",
            "200\n",
            "200\n",
            "200\n",
            "200\n"
          ]
        }
      ],
      "source": [
        "#### STATIC AFFILIATION: SE BAJA DESDE OPENALEX CON PYALEX\n",
        "\n",
        "pager = Works().filter(authorships={\"institutions\": {\"country_code\": \"AR\"}}).paginate(method=\"page\",per_page=200)\n",
        "listaDeWorks = list()\n",
        "for page in pager:\n",
        "    print(len(page))\n",
        "    listaDeWorks += page\n",
        "\n",
        "argentina_works=pd.DataFrame(listaDeWorks)"
      ]
    },
    {
      "cell_type": "code",
      "execution_count": null,
      "metadata": {
        "colab": {
          "base_uri": "https://localhost:8080/"
        },
        "id": "OJY7P3TSh_HJ",
        "outputId": "06334fce-44a6-4fa6-89bb-8d93f8668ae1"
      },
      "outputs": [
        {
          "output_type": "execute_result",
          "data": {
            "text/plain": [
              "Index(['id', 'doi', 'title', 'display_name', 'publication_year',\n",
              "       'publication_date', 'ids', 'language', 'primary_location', 'type',\n",
              "       'type_crossref', 'indexed_in', 'open_access', 'authorships',\n",
              "       'institution_assertions', 'countries_distinct_count',\n",
              "       'institutions_distinct_count', 'corresponding_author_ids',\n",
              "       'corresponding_institution_ids', 'apc_list', 'apc_paid', 'fwci',\n",
              "       'has_fulltext', 'cited_by_count', 'citation_normalized_percentile',\n",
              "       'cited_by_percentile_year', 'biblio', 'is_retracted', 'is_paratext',\n",
              "       'primary_topic', 'topics', 'keywords', 'concepts', 'mesh',\n",
              "       'locations_count', 'locations', 'best_oa_location',\n",
              "       'sustainable_development_goals', 'grants', 'datasets', 'versions',\n",
              "       'referenced_works_count', 'referenced_works', 'related_works',\n",
              "       'abstract_inverted_index', 'cited_by_api_url', 'counts_by_year',\n",
              "       'updated_date', 'created_date', 'fulltext_origin',\n",
              "       'is_authors_truncated'],\n",
              "      dtype='object')"
            ]
          },
          "metadata": {},
          "execution_count": 6
        }
      ],
      "source": [
        "argentina_works.columns"
      ]
    },
    {
      "cell_type": "code",
      "execution_count": null,
      "metadata": {
        "id": "1kgROtf4W8wR"
      },
      "outputs": [],
      "source": [
        "## de columna affiliations\n",
        "argentina_works['affiliations'] = argentina_works['authorships'].apply(lambda x: [i['affiliations'] for i in x] if isinstance(x,list) else [])\n",
        "argentina_works['raw_affiliation_string'] = argentina_works['affiliations'].apply(lambda x: [d.get('raw_affiliation_string') for sublist in x for d in sublist if isinstance(sublist, list) and isinstance(d, dict)] if isinstance(x, list) else [])\n",
        "argentina_works['institution_ids'] = argentina_works['affiliations'].apply(lambda x: [d.get('institution_ids') for sublist in x for d in sublist if isinstance(sublist, list) and isinstance(d, dict)] if isinstance(x, list) else [])\n",
        "####\n",
        "## de columna raw_affiliation_strings\n",
        "argentina_works['raw_affiliation_strings'] = argentina_works['authorships'].apply(lambda x: [i['raw_affiliation_strings'] for i in x] if isinstance(x,list) else [])\n",
        "####\n",
        "### de columna institutions\n",
        "argentina_works['institutions'] = argentina_works['authorships'].apply(lambda x: [i['institutions'] for i in x] if isinstance(x,list) else [])\n",
        "argentina_works['country_code'] = argentina_works['institutions'].apply(lambda x: [d.get('country_code') for sublist in x for d in sublist if isinstance(sublist, list) and isinstance(d, dict)] if isinstance(x, list) else [])\n",
        "argentina_works['institutions_bis'] = argentina_works['institutions'].apply(lambda x: [d.get('id') for sublist in x for d in sublist if isinstance(sublist, list) and isinstance(d, dict)] if isinstance(x, list) else [])\n",
        "argentina_works['display_name'] = argentina_works['institutions'].apply(lambda x: [d.get('display_name') for sublist in x for d in sublist if isinstance(sublist, list) and isinstance(d, dict)] if isinstance(x, list) else [])"
      ]
    },
    {
      "cell_type": "code",
      "execution_count": null,
      "metadata": {
        "colab": {
          "base_uri": "https://localhost:8080/"
        },
        "id": "gMWZfq-pVEIr",
        "outputId": "ec9f2011-9935-4b5b-a43d-3f552f68d0f5"
      },
      "outputs": [
        {
          "output_type": "stream",
          "name": "stdout",
          "text": [
            "                                 id  \\\n",
            "0  https://openalex.org/W2746485780   \n",
            "1  https://openalex.org/W2136489990   \n",
            "\n",
            "                                     institution_ids  \\\n",
            "0  [[https://openalex.org/I149521062], [https://o...   \n",
            "1  [[https://openalex.org/I2802834092, https://op...   \n",
            "\n",
            "                                    institutions_bis  \\\n",
            "0  [https://openalex.org/I149521062, https://open...   \n",
            "1  [https://openalex.org/I2802834092, https://ope...   \n",
            "\n",
            "                              raw_affiliation_string  \\\n",
            "0  [Center for Environmental and Estuarine Studie...   \n",
            "1  [Population Health Research Institute, McMaste...   \n",
            "\n",
            "                             raw_affiliation_strings  \\\n",
            "0  [[Center for Environmental and Estuarine Studi...   \n",
            "1  [[Population Health Research Institute, McMast...   \n",
            "\n",
            "                                        display_name  \\\n",
            "0  [University of Maryland Center for Environment...   \n",
            "1  [Population Health Research Institute, Hamilto...   \n",
            "\n",
            "                                        country_code  \n",
            "0   [US, US, NL, US, US, US, US, US, US, AR, US, US]  \n",
            "1  [CA, CA, CA, US, CA, CA, CA, CA, CA, CA, US, C...  \n"
          ]
        }
      ],
      "source": [
        "argentina_works=argentina_works[['id','institution_ids','institutions_bis','raw_affiliation_string','raw_affiliation_strings','display_name','country_code']]\n",
        "print(argentina_works.head(2))\n"
      ]
    },
    {
      "cell_type": "code",
      "source": [
        "affiliations=argentina_works\n",
        "#affiliations=affiliations.set_index('id')\n"
      ],
      "metadata": {
        "id": "rPb8BPhqGBvf"
      },
      "execution_count": null,
      "outputs": []
    },
    {
      "cell_type": "code",
      "source": [
        "affiliations.to_csv(f\"{base_path}/Crudos/ArchivosPyAlex/affiliations.csv\")"
      ],
      "metadata": {
        "id": "nj_La7s8NX-W"
      },
      "execution_count": null,
      "outputs": []
    },
    {
      "cell_type": "markdown",
      "metadata": {
        "id": "tBumt7gO5m1i"
      },
      "source": []
    },
    {
      "cell_type": "code",
      "execution_count": null,
      "metadata": {
        "id": "-RejfOmqYfWd",
        "colab": {
          "base_uri": "https://localhost:8080/",
          "height": 201
        },
        "outputId": "f8c8fd22-90d7-427c-f0e3-a9385f6041c0"
      },
      "outputs": [
        {
          "output_type": "error",
          "ename": "TypeError",
          "evalue": "'method' object does not support item assignment",
          "traceback": [
            "\u001b[0;31m---------------------------------------------------------------------------\u001b[0m",
            "\u001b[0;31mTypeError\u001b[0m                                 Traceback (most recent call last)",
            "\u001b[0;32m<ipython-input-13-50795f75091e>\u001b[0m in \u001b[0;36m<cell line: 1>\u001b[0;34m()\u001b[0m\n\u001b[0;32m----> 1\u001b[0;31m \u001b[0maffiliations\u001b[0m\u001b[0;34m.\u001b[0m\u001b[0mexplode\u001b[0m\u001b[0;34m[\u001b[0m\u001b[0;34m'institution_ids'\u001b[0m\u001b[0;34m]\u001b[0m\u001b[0;34m=\u001b[0m\u001b[0maffiliations\u001b[0m\u001b[0;34m[\u001b[0m\u001b[0;34m'institution_ids'\u001b[0m\u001b[0;34m]\u001b[0m\u001b[0;34m\u001b[0m\u001b[0;34m\u001b[0m\u001b[0m\n\u001b[0m\u001b[1;32m      2\u001b[0m \u001b[0maffiliations\u001b[0m\u001b[0;34m.\u001b[0m\u001b[0mexplode\u001b[0m\u001b[0;34m[\u001b[0m\u001b[0;34m'raw_affiliation_string'\u001b[0m\u001b[0;34m]\u001b[0m\u001b[0;34m=\u001b[0m\u001b[0maffiliations\u001b[0m\u001b[0;34m[\u001b[0m\u001b[0;34m'raw_affiliation_string'\u001b[0m\u001b[0;34m]\u001b[0m\u001b[0;34m\u001b[0m\u001b[0;34m\u001b[0m\u001b[0m\n\u001b[1;32m      3\u001b[0m \u001b[0;34m\u001b[0m\u001b[0m\n\u001b[1;32m      4\u001b[0m \u001b[0maffiliations\u001b[0m\u001b[0;34m=\u001b[0m\u001b[0maffiliations\u001b[0m\u001b[0;34m.\u001b[0m\u001b[0mexplode\u001b[0m\u001b[0;34m(\u001b[0m\u001b[0;34m'institution_ids'\u001b[0m\u001b[0;34m,\u001b[0m\u001b[0;34m'raw_affiliation_string'\u001b[0m\u001b[0;34m)\u001b[0m\u001b[0;34m.\u001b[0m\u001b[0mreset_index\u001b[0m\u001b[0;34m(\u001b[0m\u001b[0mdrop\u001b[0m\u001b[0;34m=\u001b[0m\u001b[0;32mFalse\u001b[0m\u001b[0;34m)\u001b[0m\u001b[0;34m\u001b[0m\u001b[0;34m\u001b[0m\u001b[0m\n",
            "\u001b[0;31mTypeError\u001b[0m: 'method' object does not support item assignment"
          ]
        }
      ],
      "source": [
        "affiliations.explode['institution_ids']=affiliations['institution_ids']\n",
        "affiliations.explode['raw_affiliation_string']=affiliations['raw_affiliation_string']\n",
        "\n",
        "affiliations=affiliations.explode('institution_ids','raw_affiliation_string').reset_index(drop=False)\n"
      ]
    },
    {
      "cell_type": "code",
      "execution_count": null,
      "metadata": {
        "colab": {
          "base_uri": "https://localhost:8080/",
          "height": 147
        },
        "id": "ez7d77amPOdp",
        "outputId": "391fe13d-52b5-4f56-e134-c10e3777833e"
      },
      "outputs": [
        {
          "output_type": "execute_result",
          "data": {
            "text/plain": [
              "                                    id  \\\n",
              "364   https://openalex.org/W2758688195   \n",
              "7028  https://openalex.org/W2898410112   \n",
              "\n",
              "                                        institution_ids  \\\n",
              "364   [[], [], [], [], [], [], [], [], [], [https://...   \n",
              "7028  [[], [], [], [], [], [], [], [], [https://open...   \n",
              "\n",
              "                                       institutions_bis  \\\n",
              "364   [https://openalex.org/I4210085984, https://ope...   \n",
              "7028  [https://openalex.org/I899635006, https://open...   \n",
              "\n",
              "                                 raw_affiliation_string  \\\n",
              "364   [HCor Research Institute, São Paulo, Brazil, H...   \n",
              "7028  [MACVIA-France, Fondation Partenariale FMC VIA...   \n",
              "\n",
              "                                raw_affiliation_strings  \\\n",
              "364   [[HCor Research Institute, São Paulo, Brazil],...   \n",
              "7028  [[MACVIA-France, Fondation Partenariale FMC VI...   \n",
              "\n",
              "                                           display_name  \\\n",
              "364   [Hospital Moinhos de Vento, Irmandade da Santa...   \n",
              "7028  [Université Grenoble Alpes, Inserm, Universida...   \n",
              "\n",
              "                                           country_code  \n",
              "364   [BR, BR, BR, BR, BR, BR, BR, BR, CO, BR, CO, B...  \n",
              "7028  [FR, FR, PT, PT, PT, PT, PT, PT, BR, BR, BR, I...  "
            ],
            "text/html": [
              "\n",
              "  <div id=\"df-ad73b577-38ac-4667-bbee-dc5aabaaf65b\" class=\"colab-df-container\">\n",
              "    <div>\n",
              "<style scoped>\n",
              "    .dataframe tbody tr th:only-of-type {\n",
              "        vertical-align: middle;\n",
              "    }\n",
              "\n",
              "    .dataframe tbody tr th {\n",
              "        vertical-align: top;\n",
              "    }\n",
              "\n",
              "    .dataframe thead th {\n",
              "        text-align: right;\n",
              "    }\n",
              "</style>\n",
              "<table border=\"1\" class=\"dataframe\">\n",
              "  <thead>\n",
              "    <tr style=\"text-align: right;\">\n",
              "      <th></th>\n",
              "      <th>id</th>\n",
              "      <th>institution_ids</th>\n",
              "      <th>institutions_bis</th>\n",
              "      <th>raw_affiliation_string</th>\n",
              "      <th>raw_affiliation_strings</th>\n",
              "      <th>display_name</th>\n",
              "      <th>country_code</th>\n",
              "    </tr>\n",
              "  </thead>\n",
              "  <tbody>\n",
              "    <tr>\n",
              "      <th>364</th>\n",
              "      <td>https://openalex.org/W2758688195</td>\n",
              "      <td>[[], [], [], [], [], [], [], [], [], [https://...</td>\n",
              "      <td>[https://openalex.org/I4210085984, https://ope...</td>\n",
              "      <td>[HCor Research Institute, São Paulo, Brazil, H...</td>\n",
              "      <td>[[HCor Research Institute, São Paulo, Brazil],...</td>\n",
              "      <td>[Hospital Moinhos de Vento, Irmandade da Santa...</td>\n",
              "      <td>[BR, BR, BR, BR, BR, BR, BR, BR, CO, BR, CO, B...</td>\n",
              "    </tr>\n",
              "    <tr>\n",
              "      <th>7028</th>\n",
              "      <td>https://openalex.org/W2898410112</td>\n",
              "      <td>[[], [], [], [], [], [], [], [], [https://open...</td>\n",
              "      <td>[https://openalex.org/I899635006, https://open...</td>\n",
              "      <td>[MACVIA-France, Fondation Partenariale FMC VIA...</td>\n",
              "      <td>[[MACVIA-France, Fondation Partenariale FMC VI...</td>\n",
              "      <td>[Université Grenoble Alpes, Inserm, Universida...</td>\n",
              "      <td>[FR, FR, PT, PT, PT, PT, PT, PT, BR, BR, BR, I...</td>\n",
              "    </tr>\n",
              "  </tbody>\n",
              "</table>\n",
              "</div>\n",
              "    <div class=\"colab-df-buttons\">\n",
              "\n",
              "  <div class=\"colab-df-container\">\n",
              "    <button class=\"colab-df-convert\" onclick=\"convertToInteractive('df-ad73b577-38ac-4667-bbee-dc5aabaaf65b')\"\n",
              "            title=\"Convert this dataframe to an interactive table.\"\n",
              "            style=\"display:none;\">\n",
              "\n",
              "  <svg xmlns=\"http://www.w3.org/2000/svg\" height=\"24px\" viewBox=\"0 -960 960 960\">\n",
              "    <path d=\"M120-120v-720h720v720H120Zm60-500h600v-160H180v160Zm220 220h160v-160H400v160Zm0 220h160v-160H400v160ZM180-400h160v-160H180v160Zm440 0h160v-160H620v160ZM180-180h160v-160H180v160Zm440 0h160v-160H620v160Z\"/>\n",
              "  </svg>\n",
              "    </button>\n",
              "\n",
              "  <style>\n",
              "    .colab-df-container {\n",
              "      display:flex;\n",
              "      gap: 12px;\n",
              "    }\n",
              "\n",
              "    .colab-df-convert {\n",
              "      background-color: #E8F0FE;\n",
              "      border: none;\n",
              "      border-radius: 50%;\n",
              "      cursor: pointer;\n",
              "      display: none;\n",
              "      fill: #1967D2;\n",
              "      height: 32px;\n",
              "      padding: 0 0 0 0;\n",
              "      width: 32px;\n",
              "    }\n",
              "\n",
              "    .colab-df-convert:hover {\n",
              "      background-color: #E2EBFA;\n",
              "      box-shadow: 0px 1px 2px rgba(60, 64, 67, 0.3), 0px 1px 3px 1px rgba(60, 64, 67, 0.15);\n",
              "      fill: #174EA6;\n",
              "    }\n",
              "\n",
              "    .colab-df-buttons div {\n",
              "      margin-bottom: 4px;\n",
              "    }\n",
              "\n",
              "    [theme=dark] .colab-df-convert {\n",
              "      background-color: #3B4455;\n",
              "      fill: #D2E3FC;\n",
              "    }\n",
              "\n",
              "    [theme=dark] .colab-df-convert:hover {\n",
              "      background-color: #434B5C;\n",
              "      box-shadow: 0px 1px 3px 1px rgba(0, 0, 0, 0.15);\n",
              "      filter: drop-shadow(0px 1px 2px rgba(0, 0, 0, 0.3));\n",
              "      fill: #FFFFFF;\n",
              "    }\n",
              "  </style>\n",
              "\n",
              "    <script>\n",
              "      const buttonEl =\n",
              "        document.querySelector('#df-ad73b577-38ac-4667-bbee-dc5aabaaf65b button.colab-df-convert');\n",
              "      buttonEl.style.display =\n",
              "        google.colab.kernel.accessAllowed ? 'block' : 'none';\n",
              "\n",
              "      async function convertToInteractive(key) {\n",
              "        const element = document.querySelector('#df-ad73b577-38ac-4667-bbee-dc5aabaaf65b');\n",
              "        const dataTable =\n",
              "          await google.colab.kernel.invokeFunction('convertToInteractive',\n",
              "                                                    [key], {});\n",
              "        if (!dataTable) return;\n",
              "\n",
              "        const docLinkHtml = 'Like what you see? Visit the ' +\n",
              "          '<a target=\"_blank\" href=https://colab.research.google.com/notebooks/data_table.ipynb>data table notebook</a>'\n",
              "          + ' to learn more about interactive tables.';\n",
              "        element.innerHTML = '';\n",
              "        dataTable['output_type'] = 'display_data';\n",
              "        await google.colab.output.renderOutput(dataTable, element);\n",
              "        const docLink = document.createElement('div');\n",
              "        docLink.innerHTML = docLinkHtml;\n",
              "        element.appendChild(docLink);\n",
              "      }\n",
              "    </script>\n",
              "  </div>\n",
              "\n",
              "\n",
              "<div id=\"df-d039ad81-040c-4236-96ba-63c0ab3e2cae\">\n",
              "  <button class=\"colab-df-quickchart\" onclick=\"quickchart('df-d039ad81-040c-4236-96ba-63c0ab3e2cae')\"\n",
              "            title=\"Suggest charts\"\n",
              "            style=\"display:none;\">\n",
              "\n",
              "<svg xmlns=\"http://www.w3.org/2000/svg\" height=\"24px\"viewBox=\"0 0 24 24\"\n",
              "     width=\"24px\">\n",
              "    <g>\n",
              "        <path d=\"M19 3H5c-1.1 0-2 .9-2 2v14c0 1.1.9 2 2 2h14c1.1 0 2-.9 2-2V5c0-1.1-.9-2-2-2zM9 17H7v-7h2v7zm4 0h-2V7h2v10zm4 0h-2v-4h2v4z\"/>\n",
              "    </g>\n",
              "</svg>\n",
              "  </button>\n",
              "\n",
              "<style>\n",
              "  .colab-df-quickchart {\n",
              "      --bg-color: #E8F0FE;\n",
              "      --fill-color: #1967D2;\n",
              "      --hover-bg-color: #E2EBFA;\n",
              "      --hover-fill-color: #174EA6;\n",
              "      --disabled-fill-color: #AAA;\n",
              "      --disabled-bg-color: #DDD;\n",
              "  }\n",
              "\n",
              "  [theme=dark] .colab-df-quickchart {\n",
              "      --bg-color: #3B4455;\n",
              "      --fill-color: #D2E3FC;\n",
              "      --hover-bg-color: #434B5C;\n",
              "      --hover-fill-color: #FFFFFF;\n",
              "      --disabled-bg-color: #3B4455;\n",
              "      --disabled-fill-color: #666;\n",
              "  }\n",
              "\n",
              "  .colab-df-quickchart {\n",
              "    background-color: var(--bg-color);\n",
              "    border: none;\n",
              "    border-radius: 50%;\n",
              "    cursor: pointer;\n",
              "    display: none;\n",
              "    fill: var(--fill-color);\n",
              "    height: 32px;\n",
              "    padding: 0;\n",
              "    width: 32px;\n",
              "  }\n",
              "\n",
              "  .colab-df-quickchart:hover {\n",
              "    background-color: var(--hover-bg-color);\n",
              "    box-shadow: 0 1px 2px rgba(60, 64, 67, 0.3), 0 1px 3px 1px rgba(60, 64, 67, 0.15);\n",
              "    fill: var(--button-hover-fill-color);\n",
              "  }\n",
              "\n",
              "  .colab-df-quickchart-complete:disabled,\n",
              "  .colab-df-quickchart-complete:disabled:hover {\n",
              "    background-color: var(--disabled-bg-color);\n",
              "    fill: var(--disabled-fill-color);\n",
              "    box-shadow: none;\n",
              "  }\n",
              "\n",
              "  .colab-df-spinner {\n",
              "    border: 2px solid var(--fill-color);\n",
              "    border-color: transparent;\n",
              "    border-bottom-color: var(--fill-color);\n",
              "    animation:\n",
              "      spin 1s steps(1) infinite;\n",
              "  }\n",
              "\n",
              "  @keyframes spin {\n",
              "    0% {\n",
              "      border-color: transparent;\n",
              "      border-bottom-color: var(--fill-color);\n",
              "      border-left-color: var(--fill-color);\n",
              "    }\n",
              "    20% {\n",
              "      border-color: transparent;\n",
              "      border-left-color: var(--fill-color);\n",
              "      border-top-color: var(--fill-color);\n",
              "    }\n",
              "    30% {\n",
              "      border-color: transparent;\n",
              "      border-left-color: var(--fill-color);\n",
              "      border-top-color: var(--fill-color);\n",
              "      border-right-color: var(--fill-color);\n",
              "    }\n",
              "    40% {\n",
              "      border-color: transparent;\n",
              "      border-right-color: var(--fill-color);\n",
              "      border-top-color: var(--fill-color);\n",
              "    }\n",
              "    60% {\n",
              "      border-color: transparent;\n",
              "      border-right-color: var(--fill-color);\n",
              "    }\n",
              "    80% {\n",
              "      border-color: transparent;\n",
              "      border-right-color: var(--fill-color);\n",
              "      border-bottom-color: var(--fill-color);\n",
              "    }\n",
              "    90% {\n",
              "      border-color: transparent;\n",
              "      border-bottom-color: var(--fill-color);\n",
              "    }\n",
              "  }\n",
              "</style>\n",
              "\n",
              "  <script>\n",
              "    async function quickchart(key) {\n",
              "      const quickchartButtonEl =\n",
              "        document.querySelector('#' + key + ' button');\n",
              "      quickchartButtonEl.disabled = true;  // To prevent multiple clicks.\n",
              "      quickchartButtonEl.classList.add('colab-df-spinner');\n",
              "      try {\n",
              "        const charts = await google.colab.kernel.invokeFunction(\n",
              "            'suggestCharts', [key], {});\n",
              "      } catch (error) {\n",
              "        console.error('Error during call to suggestCharts:', error);\n",
              "      }\n",
              "      quickchartButtonEl.classList.remove('colab-df-spinner');\n",
              "      quickchartButtonEl.classList.add('colab-df-quickchart-complete');\n",
              "    }\n",
              "    (() => {\n",
              "      let quickchartButtonEl =\n",
              "        document.querySelector('#df-d039ad81-040c-4236-96ba-63c0ab3e2cae button');\n",
              "      quickchartButtonEl.style.display =\n",
              "        google.colab.kernel.accessAllowed ? 'block' : 'none';\n",
              "    })();\n",
              "  </script>\n",
              "</div>\n",
              "\n",
              "    </div>\n",
              "  </div>\n"
            ],
            "application/vnd.google.colaboratory.intrinsic+json": {
              "type": "dataframe",
              "summary": "{\n  \"name\": \"affiliations\",\n  \"rows\": 2,\n  \"fields\": [\n    {\n      \"column\": \"id\",\n      \"properties\": {\n        \"dtype\": \"string\",\n        \"num_unique_values\": 2,\n        \"samples\": [\n          \"https://openalex.org/W2898410112\",\n          \"https://openalex.org/W2758688195\"\n        ],\n        \"semantic_type\": \"\",\n        \"description\": \"\"\n      }\n    },\n    {\n      \"column\": \"institution_ids\",\n      \"properties\": {\n        \"dtype\": \"object\",\n        \"semantic_type\": \"\",\n        \"description\": \"\"\n      }\n    },\n    {\n      \"column\": \"institutions_bis\",\n      \"properties\": {\n        \"dtype\": \"object\",\n        \"semantic_type\": \"\",\n        \"description\": \"\"\n      }\n    },\n    {\n      \"column\": \"raw_affiliation_string\",\n      \"properties\": {\n        \"dtype\": \"object\",\n        \"semantic_type\": \"\",\n        \"description\": \"\"\n      }\n    },\n    {\n      \"column\": \"raw_affiliation_strings\",\n      \"properties\": {\n        \"dtype\": \"object\",\n        \"semantic_type\": \"\",\n        \"description\": \"\"\n      }\n    },\n    {\n      \"column\": \"display_name\",\n      \"properties\": {\n        \"dtype\": \"object\",\n        \"semantic_type\": \"\",\n        \"description\": \"\"\n      }\n    },\n    {\n      \"column\": \"country_code\",\n      \"properties\": {\n        \"dtype\": \"object\",\n        \"semantic_type\": \"\",\n        \"description\": \"\"\n      }\n    }\n  ]\n}"
            }
          },
          "metadata": {},
          "execution_count": 14
        }
      ],
      "source": [
        "affiliations.sort_values(by='institution_ids').head(2)"
      ]
    },
    {
      "cell_type": "code",
      "execution_count": null,
      "metadata": {
        "colab": {
          "base_uri": "https://localhost:8080/"
        },
        "id": "HaHJ_MaCwByA",
        "outputId": "0ed061e9-30b1-41ff-eda9-3a4f5a922248"
      },
      "outputs": [
        {
          "output_type": "stream",
          "name": "stdout",
          "text": [
            "<class 'pandas.core.frame.DataFrame'>\n",
            "RangeIndex: 10000 entries, 0 to 9999\n",
            "Data columns (total 10 columns):\n",
            " #   Column                   Non-Null Count  Dtype \n",
            "---  ------                   --------------  ----- \n",
            " 0   id                       10000 non-null  object\n",
            " 1   institution_ids          10000 non-null  object\n",
            " 2   institutions_bis         10000 non-null  object\n",
            " 3   raw_affiliation_string   10000 non-null  object\n",
            " 4   raw_affiliation_strings  10000 non-null  object\n",
            " 5   display_name             10000 non-null  object\n",
            " 6   country_code             10000 non-null  object\n",
            " 7   works_id                 10000 non-null  object\n",
            " 8   affiliation_id           0 non-null      object\n",
            " 9   original_affiliation     10000 non-null  object\n",
            "dtypes: object(10)\n",
            "memory usage: 781.4+ KB\n"
          ]
        }
      ],
      "source": [
        "affiliations['works_id'] = affiliations['id'].apply(lambda x: x.split(\"/\")[-1])\n",
        "affiliations['affiliation_id'] = affiliations['institution_ids'].apply(lambda x: x.split(\"/\")[-1] if isinstance(x, str) else None) # Check if x is a string\n",
        "affiliations['affiliation_id']= affiliations['affiliation_id'].apply(lambda x: x.split(\"I\")[-1] if isinstance(x, str) else None) # Check if x is a string\n",
        "affiliations['original_affiliation']=affiliations['raw_affiliation_string']\n",
        "affiliations.info()\n"
      ]
    },
    {
      "cell_type": "code",
      "execution_count": null,
      "metadata": {
        "colab": {
          "base_uri": "https://localhost:8080/",
          "height": 337
        },
        "id": "IjBjc3vueHCG",
        "outputId": "cd1a78bf-41c5-4e84-9180-7bf1bc65979a"
      },
      "outputs": [
        {
          "output_type": "execute_result",
          "data": {
            "text/plain": [
              "                                 id  \\\n",
              "0  https://openalex.org/W2746485780   \n",
              "1  https://openalex.org/W2136489990   \n",
              "2  https://openalex.org/W2144173184   \n",
              "\n",
              "                                     institution_ids  \\\n",
              "0  [[https://openalex.org/I149521062], [https://o...   \n",
              "1  [[https://openalex.org/I2802834092, https://op...   \n",
              "2  [[https://openalex.org/I4210100468], [https://...   \n",
              "\n",
              "                                    institutions_bis  \\\n",
              "0  [https://openalex.org/I149521062, https://open...   \n",
              "1  [https://openalex.org/I2802834092, https://ope...   \n",
              "2  [https://openalex.org/I4210100468, https://ope...   \n",
              "\n",
              "                              raw_affiliation_string  \\\n",
              "0  [Center for Environmental and Estuarine Studie...   \n",
              "1  [Population Health Research Institute, McMaste...   \n",
              "2  [Department of Surgery and Swiss HPB Center, U...   \n",
              "\n",
              "                             raw_affiliation_strings  \\\n",
              "0  [[Center for Environmental and Estuarine Studi...   \n",
              "1  [[Population Health Research Institute, McMast...   \n",
              "2  [[Department of Surgery and Swiss HPB Center, ...   \n",
              "\n",
              "                                        display_name  \\\n",
              "0  [University of Maryland Center for Environment...   \n",
              "1  [Population Health Research Institute, Hamilto...   \n",
              "2  [University Hospital of Zurich, McGill Univers...   \n",
              "\n",
              "                                        country_code     works_id  \\\n",
              "0   [US, US, NL, US, US, US, US, US, US, AR, US, US]  W2746485780   \n",
              "1  [CA, CA, CA, US, CA, CA, CA, CA, CA, CA, US, C...  W2136489990   \n",
              "2  [CH, CA, JP, CH, US, CH, US, AR, AR, CH, AU, C...  W2144173184   \n",
              "\n",
              "  affiliation_id                               original_affiliation  \n",
              "0           None  [Center for Environmental and Estuarine Studie...  \n",
              "1           None  [Population Health Research Institute, McMaste...  \n",
              "2           None  [Department of Surgery and Swiss HPB Center, U...  "
            ],
            "text/html": [
              "\n",
              "  <div id=\"df-6a5282be-f359-4749-b351-470181416c0d\" class=\"colab-df-container\">\n",
              "    <div>\n",
              "<style scoped>\n",
              "    .dataframe tbody tr th:only-of-type {\n",
              "        vertical-align: middle;\n",
              "    }\n",
              "\n",
              "    .dataframe tbody tr th {\n",
              "        vertical-align: top;\n",
              "    }\n",
              "\n",
              "    .dataframe thead th {\n",
              "        text-align: right;\n",
              "    }\n",
              "</style>\n",
              "<table border=\"1\" class=\"dataframe\">\n",
              "  <thead>\n",
              "    <tr style=\"text-align: right;\">\n",
              "      <th></th>\n",
              "      <th>id</th>\n",
              "      <th>institution_ids</th>\n",
              "      <th>institutions_bis</th>\n",
              "      <th>raw_affiliation_string</th>\n",
              "      <th>raw_affiliation_strings</th>\n",
              "      <th>display_name</th>\n",
              "      <th>country_code</th>\n",
              "      <th>works_id</th>\n",
              "      <th>affiliation_id</th>\n",
              "      <th>original_affiliation</th>\n",
              "    </tr>\n",
              "  </thead>\n",
              "  <tbody>\n",
              "    <tr>\n",
              "      <th>0</th>\n",
              "      <td>https://openalex.org/W2746485780</td>\n",
              "      <td>[[https://openalex.org/I149521062], [https://o...</td>\n",
              "      <td>[https://openalex.org/I149521062, https://open...</td>\n",
              "      <td>[Center for Environmental and Estuarine Studie...</td>\n",
              "      <td>[[Center for Environmental and Estuarine Studi...</td>\n",
              "      <td>[University of Maryland Center for Environment...</td>\n",
              "      <td>[US, US, NL, US, US, US, US, US, US, AR, US, US]</td>\n",
              "      <td>W2746485780</td>\n",
              "      <td>None</td>\n",
              "      <td>[Center for Environmental and Estuarine Studie...</td>\n",
              "    </tr>\n",
              "    <tr>\n",
              "      <th>1</th>\n",
              "      <td>https://openalex.org/W2136489990</td>\n",
              "      <td>[[https://openalex.org/I2802834092, https://op...</td>\n",
              "      <td>[https://openalex.org/I2802834092, https://ope...</td>\n",
              "      <td>[Population Health Research Institute, McMaste...</td>\n",
              "      <td>[[Population Health Research Institute, McMast...</td>\n",
              "      <td>[Population Health Research Institute, Hamilto...</td>\n",
              "      <td>[CA, CA, CA, US, CA, CA, CA, CA, CA, CA, US, C...</td>\n",
              "      <td>W2136489990</td>\n",
              "      <td>None</td>\n",
              "      <td>[Population Health Research Institute, McMaste...</td>\n",
              "    </tr>\n",
              "    <tr>\n",
              "      <th>2</th>\n",
              "      <td>https://openalex.org/W2144173184</td>\n",
              "      <td>[[https://openalex.org/I4210100468], [https://...</td>\n",
              "      <td>[https://openalex.org/I4210100468, https://ope...</td>\n",
              "      <td>[Department of Surgery and Swiss HPB Center, U...</td>\n",
              "      <td>[[Department of Surgery and Swiss HPB Center, ...</td>\n",
              "      <td>[University Hospital of Zurich, McGill Univers...</td>\n",
              "      <td>[CH, CA, JP, CH, US, CH, US, AR, AR, CH, AU, C...</td>\n",
              "      <td>W2144173184</td>\n",
              "      <td>None</td>\n",
              "      <td>[Department of Surgery and Swiss HPB Center, U...</td>\n",
              "    </tr>\n",
              "  </tbody>\n",
              "</table>\n",
              "</div>\n",
              "    <div class=\"colab-df-buttons\">\n",
              "\n",
              "  <div class=\"colab-df-container\">\n",
              "    <button class=\"colab-df-convert\" onclick=\"convertToInteractive('df-6a5282be-f359-4749-b351-470181416c0d')\"\n",
              "            title=\"Convert this dataframe to an interactive table.\"\n",
              "            style=\"display:none;\">\n",
              "\n",
              "  <svg xmlns=\"http://www.w3.org/2000/svg\" height=\"24px\" viewBox=\"0 -960 960 960\">\n",
              "    <path d=\"M120-120v-720h720v720H120Zm60-500h600v-160H180v160Zm220 220h160v-160H400v160Zm0 220h160v-160H400v160ZM180-400h160v-160H180v160Zm440 0h160v-160H620v160ZM180-180h160v-160H180v160Zm440 0h160v-160H620v160Z\"/>\n",
              "  </svg>\n",
              "    </button>\n",
              "\n",
              "  <style>\n",
              "    .colab-df-container {\n",
              "      display:flex;\n",
              "      gap: 12px;\n",
              "    }\n",
              "\n",
              "    .colab-df-convert {\n",
              "      background-color: #E8F0FE;\n",
              "      border: none;\n",
              "      border-radius: 50%;\n",
              "      cursor: pointer;\n",
              "      display: none;\n",
              "      fill: #1967D2;\n",
              "      height: 32px;\n",
              "      padding: 0 0 0 0;\n",
              "      width: 32px;\n",
              "    }\n",
              "\n",
              "    .colab-df-convert:hover {\n",
              "      background-color: #E2EBFA;\n",
              "      box-shadow: 0px 1px 2px rgba(60, 64, 67, 0.3), 0px 1px 3px 1px rgba(60, 64, 67, 0.15);\n",
              "      fill: #174EA6;\n",
              "    }\n",
              "\n",
              "    .colab-df-buttons div {\n",
              "      margin-bottom: 4px;\n",
              "    }\n",
              "\n",
              "    [theme=dark] .colab-df-convert {\n",
              "      background-color: #3B4455;\n",
              "      fill: #D2E3FC;\n",
              "    }\n",
              "\n",
              "    [theme=dark] .colab-df-convert:hover {\n",
              "      background-color: #434B5C;\n",
              "      box-shadow: 0px 1px 3px 1px rgba(0, 0, 0, 0.15);\n",
              "      filter: drop-shadow(0px 1px 2px rgba(0, 0, 0, 0.3));\n",
              "      fill: #FFFFFF;\n",
              "    }\n",
              "  </style>\n",
              "\n",
              "    <script>\n",
              "      const buttonEl =\n",
              "        document.querySelector('#df-6a5282be-f359-4749-b351-470181416c0d button.colab-df-convert');\n",
              "      buttonEl.style.display =\n",
              "        google.colab.kernel.accessAllowed ? 'block' : 'none';\n",
              "\n",
              "      async function convertToInteractive(key) {\n",
              "        const element = document.querySelector('#df-6a5282be-f359-4749-b351-470181416c0d');\n",
              "        const dataTable =\n",
              "          await google.colab.kernel.invokeFunction('convertToInteractive',\n",
              "                                                    [key], {});\n",
              "        if (!dataTable) return;\n",
              "\n",
              "        const docLinkHtml = 'Like what you see? Visit the ' +\n",
              "          '<a target=\"_blank\" href=https://colab.research.google.com/notebooks/data_table.ipynb>data table notebook</a>'\n",
              "          + ' to learn more about interactive tables.';\n",
              "        element.innerHTML = '';\n",
              "        dataTable['output_type'] = 'display_data';\n",
              "        await google.colab.output.renderOutput(dataTable, element);\n",
              "        const docLink = document.createElement('div');\n",
              "        docLink.innerHTML = docLinkHtml;\n",
              "        element.appendChild(docLink);\n",
              "      }\n",
              "    </script>\n",
              "  </div>\n",
              "\n",
              "\n",
              "<div id=\"df-b24a5963-0052-461f-9f2c-ee89212d27df\">\n",
              "  <button class=\"colab-df-quickchart\" onclick=\"quickchart('df-b24a5963-0052-461f-9f2c-ee89212d27df')\"\n",
              "            title=\"Suggest charts\"\n",
              "            style=\"display:none;\">\n",
              "\n",
              "<svg xmlns=\"http://www.w3.org/2000/svg\" height=\"24px\"viewBox=\"0 0 24 24\"\n",
              "     width=\"24px\">\n",
              "    <g>\n",
              "        <path d=\"M19 3H5c-1.1 0-2 .9-2 2v14c0 1.1.9 2 2 2h14c1.1 0 2-.9 2-2V5c0-1.1-.9-2-2-2zM9 17H7v-7h2v7zm4 0h-2V7h2v10zm4 0h-2v-4h2v4z\"/>\n",
              "    </g>\n",
              "</svg>\n",
              "  </button>\n",
              "\n",
              "<style>\n",
              "  .colab-df-quickchart {\n",
              "      --bg-color: #E8F0FE;\n",
              "      --fill-color: #1967D2;\n",
              "      --hover-bg-color: #E2EBFA;\n",
              "      --hover-fill-color: #174EA6;\n",
              "      --disabled-fill-color: #AAA;\n",
              "      --disabled-bg-color: #DDD;\n",
              "  }\n",
              "\n",
              "  [theme=dark] .colab-df-quickchart {\n",
              "      --bg-color: #3B4455;\n",
              "      --fill-color: #D2E3FC;\n",
              "      --hover-bg-color: #434B5C;\n",
              "      --hover-fill-color: #FFFFFF;\n",
              "      --disabled-bg-color: #3B4455;\n",
              "      --disabled-fill-color: #666;\n",
              "  }\n",
              "\n",
              "  .colab-df-quickchart {\n",
              "    background-color: var(--bg-color);\n",
              "    border: none;\n",
              "    border-radius: 50%;\n",
              "    cursor: pointer;\n",
              "    display: none;\n",
              "    fill: var(--fill-color);\n",
              "    height: 32px;\n",
              "    padding: 0;\n",
              "    width: 32px;\n",
              "  }\n",
              "\n",
              "  .colab-df-quickchart:hover {\n",
              "    background-color: var(--hover-bg-color);\n",
              "    box-shadow: 0 1px 2px rgba(60, 64, 67, 0.3), 0 1px 3px 1px rgba(60, 64, 67, 0.15);\n",
              "    fill: var(--button-hover-fill-color);\n",
              "  }\n",
              "\n",
              "  .colab-df-quickchart-complete:disabled,\n",
              "  .colab-df-quickchart-complete:disabled:hover {\n",
              "    background-color: var(--disabled-bg-color);\n",
              "    fill: var(--disabled-fill-color);\n",
              "    box-shadow: none;\n",
              "  }\n",
              "\n",
              "  .colab-df-spinner {\n",
              "    border: 2px solid var(--fill-color);\n",
              "    border-color: transparent;\n",
              "    border-bottom-color: var(--fill-color);\n",
              "    animation:\n",
              "      spin 1s steps(1) infinite;\n",
              "  }\n",
              "\n",
              "  @keyframes spin {\n",
              "    0% {\n",
              "      border-color: transparent;\n",
              "      border-bottom-color: var(--fill-color);\n",
              "      border-left-color: var(--fill-color);\n",
              "    }\n",
              "    20% {\n",
              "      border-color: transparent;\n",
              "      border-left-color: var(--fill-color);\n",
              "      border-top-color: var(--fill-color);\n",
              "    }\n",
              "    30% {\n",
              "      border-color: transparent;\n",
              "      border-left-color: var(--fill-color);\n",
              "      border-top-color: var(--fill-color);\n",
              "      border-right-color: var(--fill-color);\n",
              "    }\n",
              "    40% {\n",
              "      border-color: transparent;\n",
              "      border-right-color: var(--fill-color);\n",
              "      border-top-color: var(--fill-color);\n",
              "    }\n",
              "    60% {\n",
              "      border-color: transparent;\n",
              "      border-right-color: var(--fill-color);\n",
              "    }\n",
              "    80% {\n",
              "      border-color: transparent;\n",
              "      border-right-color: var(--fill-color);\n",
              "      border-bottom-color: var(--fill-color);\n",
              "    }\n",
              "    90% {\n",
              "      border-color: transparent;\n",
              "      border-bottom-color: var(--fill-color);\n",
              "    }\n",
              "  }\n",
              "</style>\n",
              "\n",
              "  <script>\n",
              "    async function quickchart(key) {\n",
              "      const quickchartButtonEl =\n",
              "        document.querySelector('#' + key + ' button');\n",
              "      quickchartButtonEl.disabled = true;  // To prevent multiple clicks.\n",
              "      quickchartButtonEl.classList.add('colab-df-spinner');\n",
              "      try {\n",
              "        const charts = await google.colab.kernel.invokeFunction(\n",
              "            'suggestCharts', [key], {});\n",
              "      } catch (error) {\n",
              "        console.error('Error during call to suggestCharts:', error);\n",
              "      }\n",
              "      quickchartButtonEl.classList.remove('colab-df-spinner');\n",
              "      quickchartButtonEl.classList.add('colab-df-quickchart-complete');\n",
              "    }\n",
              "    (() => {\n",
              "      let quickchartButtonEl =\n",
              "        document.querySelector('#df-b24a5963-0052-461f-9f2c-ee89212d27df button');\n",
              "      quickchartButtonEl.style.display =\n",
              "        google.colab.kernel.accessAllowed ? 'block' : 'none';\n",
              "    })();\n",
              "  </script>\n",
              "</div>\n",
              "\n",
              "    </div>\n",
              "  </div>\n"
            ],
            "application/vnd.google.colaboratory.intrinsic+json": {
              "type": "dataframe",
              "variable_name": "affiliations",
              "repr_error": "Out of range float values are not JSON compliant: nan"
            }
          },
          "metadata": {},
          "execution_count": 16
        }
      ],
      "source": [
        "affiliations.head(3)"
      ]
    },
    {
      "cell_type": "code",
      "execution_count": null,
      "metadata": {
        "colab": {
          "base_uri": "https://localhost:8080/"
        },
        "id": "9ITFBMElTqJW",
        "outputId": "4e291e26-3809-4506-8a9b-22cd71d3c971"
      },
      "outputs": [
        {
          "output_type": "execute_result",
          "data": {
            "text/plain": [
              "(186641, 11)"
            ]
          },
          "metadata": {},
          "execution_count": 15
        }
      ],
      "source": [
        "affiliations.shape"
      ]
    },
    {
      "cell_type": "code",
      "execution_count": null,
      "metadata": {
        "id": "ahRH88BgmfGn"
      },
      "outputs": [],
      "source": [
        "##Genero el archivo para testeo\n",
        "from sklearn.model_selection import train_test_split\n",
        "train_data, val_data = train_test_split(affiliations, train_size=0.90, random_state=1)\n",
        "affiliations = train_data.reset_index(drop=True).copy()\n",
        "affiliations_para_testeo = val_data.reset_index(drop=True).copy()"
      ]
    },
    {
      "cell_type": "code",
      "execution_count": null,
      "metadata": {
        "id": "dE8evuBSz_hZ"
      },
      "outputs": [],
      "source": [
        "##Genero el archivo para testeo\n",
        "affiliations.to_parquet(f\"{base_path}/Crudos/ArchivosPyAlex/affiliations.parquet\")\n",
        "affiliations_para_testeo.to_csv(f\"{base_path}/Crudos/ArchivosPyAlex/affiliations_para_testeo.csv\")"
      ]
    },
    {
      "cell_type": "code",
      "execution_count": null,
      "metadata": {
        "id": "ktzE0MsyrB4f"
      },
      "outputs": [],
      "source": [
        "affiliations = spark.read.parquet(f\"{base_path}/Crudos/ArchivosPyAlex/affiliations.parquet\")"
      ]
    },
    {
      "cell_type": "markdown",
      "metadata": {
        "id": "Y18gO-PYY81B"
      },
      "source": [
        "#### Getting ROR aff strings"
      ]
    },
    {
      "cell_type": "code",
      "execution_count": null,
      "metadata": {
        "id": "sM66cV4pf-BO"
      },
      "outputs": [],
      "source": [
        "from pyspark.sql import SparkSession\n",
        "import pyspark.sql.functions as F\n",
        "\n",
        "# If SparkSession is not already initialized, create it\n",
        "if 'spark' not in locals():  # Check if 'spark' variable exists\n",
        "    spark = SparkSession.builder.appName(\"YourAppName\").getOrCreate()"
      ]
    },
    {
      "cell_type": "code",
      "execution_count": null,
      "metadata": {
        "id": "LQ31qCOwkEKV"
      },
      "outputs": [],
      "source": [
        "from pyspark.sql.functions import explode_outer, flatten\n",
        "\n",
        "# Explode the 'original_affiliation' column, no need for flatten\n",
        "dedup_affs = affiliations.withColumn(\"original_affiliation\", explode_outer(F.col(\"original_affiliation\"))) \\\n",
        "    .select(F.trim(F.col('original_affiliation')).alias('original_affiliation'), 'affiliation_id')\\\n",
        "    .filter(F.col('original_affiliation').isNotNull())\\\n",
        "    .filter(F.col('original_affiliation')!='')\\\n",
        "    .withColumn('aff_len', F.length(F.col('original_affiliation')))\\\n",
        "    .filter(F.col('aff_len')>2)\\\n",
        "    .groupby(['original_affiliation','affiliation_id']) \\\n",
        "    .agg(F.count(F.col('affiliation_id')).alias('aff_string_counts'))"
      ]
    },
    {
      "cell_type": "code",
      "execution_count": null,
      "metadata": {
        "id": "Eua09x98Y81C",
        "colab": {
          "base_uri": "https://localhost:8080/"
        },
        "outputId": "03525809-9833-4070-8484-f05e881338ef"
      },
      "outputs": [
        {
          "output_type": "execute_result",
          "data": {
            "text/plain": [
              "78710"
            ]
          },
          "metadata": {},
          "execution_count": 22
        }
      ],
      "source": [
        "dedup_affs.cache().count()"
      ]
    },
    {
      "cell_type": "code",
      "execution_count": null,
      "metadata": {
        "id": "7YHimRmfR5KM",
        "colab": {
          "base_uri": "https://localhost:8080/"
        },
        "outputId": "93372160-af7b-45a6-b3cc-91124f2a7ac0"
      },
      "outputs": [
        {
          "output_type": "execute_result",
          "data": {
            "text/plain": [
              "DataFrame[original_affiliation: string, affiliation_id: int, aff_string_counts: bigint]"
            ]
          },
          "metadata": {},
          "execution_count": 23
        }
      ],
      "source": [
        "dedup_affs"
      ]
    },
    {
      "cell_type": "code",
      "execution_count": null,
      "metadata": {
        "id": "7oDcsZpVBrBX",
        "colab": {
          "base_uri": "https://localhost:8080/"
        },
        "outputId": "60f8ee65-1d77-4b5d-c266-c79eccbccc73"
      },
      "outputs": [
        {
          "output_type": "execute_result",
          "data": {
            "text/plain": [
              "[Row(original_affiliation='Institute for Clinical Effectiveness and Health Policy (IECS-CONICET); Argentine Cochrane Centre; Dr. Emilio Ravignani 2024 Buenos Aires Capital Federal Argentina C1414CPV', affiliation_id=None, aff_string_counts=0),\n",
              " Row(original_affiliation='Laboratory of Experimental Immunology, University of Copenhagen, Copenhagen N, Denmark', affiliation_id=None, aff_string_counts=0),\n",
              " Row(original_affiliation='Study Center for Primary Immunodeficiencies, Necker Hospital for Sick Children, AP-HP, 75015 Paris, France', affiliation_id=None, aff_string_counts=0)]"
            ]
          },
          "metadata": {},
          "execution_count": 24
        }
      ],
      "source": [
        "dedup_affs.head(n=3)"
      ]
    },
    {
      "cell_type": "code",
      "execution_count": null,
      "metadata": {
        "id": "Hf6UxRrSY81C"
      },
      "outputs": [],
      "source": [
        "ror_data = spark.read.parquet(f\"{base_path}V2/001_Exploration/ror_strings.parquet\") \\\n",
        ".select('original_affiliation','affiliation_id')"
      ]
    },
    {
      "cell_type": "code",
      "execution_count": null,
      "metadata": {
        "id": "AtlUPzcfY81D",
        "colab": {
          "base_uri": "https://localhost:8080/"
        },
        "outputId": "225a1897-abcb-43c7-800b-f2b38634a655"
      },
      "outputs": [
        {
          "output_type": "execute_result",
          "data": {
            "text/plain": [
              "45963"
            ]
          },
          "metadata": {},
          "execution_count": 26
        }
      ],
      "source": [
        "ror_data.cache().count()"
      ]
    },
    {
      "cell_type": "code",
      "execution_count": null,
      "metadata": {
        "id": "BEilrB2dmesq",
        "colab": {
          "base_uri": "https://localhost:8080/"
        },
        "outputId": "e2d87559-8345-4d97-9781-689c5fd2eef7"
      },
      "outputs": [
        {
          "output_type": "execute_result",
          "data": {
            "text/plain": [
              "[Row(original_affiliation='National University of the Littoral, Santa Fe, Argentina', affiliation_id='3121987637'),\n",
              " Row(original_affiliation='National University of the Littoral, Argentina', affiliation_id='3121987637')]"
            ]
          },
          "metadata": {},
          "execution_count": 27
        }
      ],
      "source": [
        "ror_data.head(n=2)"
      ]
    },
    {
      "cell_type": "markdown",
      "metadata": {
        "id": "Sv_QTa0RY81D"
      },
      "source": [
        "### Gathering training data\n",
        "\n",
        "Since we are looking at all institutions, we need to up-sample the institutions that don't have many affiliation strings and down-sample the institutions that have large numbers of strings. There was a balance here that needed to be acheived. The more samples that are taken for each institution, the more overall training data we will have and the longer our model will take to train.\n",
        "\n",
        "However, more samples also means more ways of an institution showing up in an affiliation string.\n",
        "\n",
        "The number of samples was set to 50 as it was determined this was a good optimization point based on affiliation string count distribution and time it would take to train the model.\n",
        "\n",
        "However, unlike in V1 where we tried to keep all institutions at 50, for V2 we gave additional samples for institutions with more strings available. Specifically, we allowed those institutions to have up to 25 additional strings, for a total of 75."
      ]
    },
    {
      "cell_type": "code",
      "execution_count": null,
      "metadata": {
        "id": "FnJKSJJhY81E"
      },
      "outputs": [],
      "source": [
        "num_samples_to_get = 50"
      ]
    },
    {
      "cell_type": "code",
      "source": [],
      "metadata": {
        "id": "q1sSKW4UhUMU"
      },
      "execution_count": null,
      "outputs": []
    },
    {
      "cell_type": "code",
      "execution_count": null,
      "metadata": {
        "id": "g4CONrqivywS",
        "colab": {
          "base_uri": "https://localhost:8080/"
        },
        "outputId": "b700fdc1-0339-4ffd-a734-391be4bcbb43"
      },
      "outputs": [
        {
          "output_type": "stream",
          "name": "stdout",
          "text": [
            "None\n"
          ]
        }
      ],
      "source": [
        "##se queda sólo con los papers cuyas instituciones aparecen en ROR\n",
        "w1 = Window.partitionBy('affiliation_id')\n",
        "\n",
        "filled_affiliations = dedup_affs \\\n",
        "    .join(ror_data.select('affiliation_id'), how='inner', on='affiliation_id') \\\n",
        "    .select('original_affiliation','affiliation_id')\n",
        "\n",
        "print(filled_affiliations.head())\n",
        "##opción: cambiar de 'inner' a 'left'"
      ]
    },
    {
      "cell_type": "code",
      "execution_count": null,
      "metadata": {
        "id": "Duj1ZxivY81E",
        "colab": {
          "base_uri": "https://localhost:8080/"
        },
        "outputId": "a7ebec76-52a4-42ff-b0fe-f68096096968"
      },
      "outputs": [
        {
          "output_type": "stream",
          "name": "stdout",
          "text": [
            "Row(original_affiliation='National University of the Littoral, Santa Fe, Argentina', affiliation_id='3121987637')\n"
          ]
        }
      ],
      "source": [
        "## se agregan las otras instituticiones del ror en Argentina\n",
        "filled_affiliations=filled_affiliations.union(ror_data.select('original_affiliation','affiliation_id'))\n",
        "print(filled_affiliations.head())"
      ]
    },
    {
      "cell_type": "code",
      "execution_count": null,
      "metadata": {
        "id": "HRIKEv6cyqrG"
      },
      "outputs": [],
      "source": [
        "filled_affiliations=filled_affiliations.filter(~F.col('affiliation_id').isNull()) \\\n",
        "    .dropDuplicates() \\\n",
        "    .withColumn('random_prob', F.rand(seed=20)) \\\n",
        "    .withColumn('id_count', F.count(F.col('affiliation_id')).over(w1)) \\\n",
        "    .withColumn('scaled_count', F.lit(1)-((F.col('id_count') - F.lit(num_samples_to_get))/(F.lit(3500000) - F.lit(num_samples_to_get)))) \\\n",
        "    .withColumn('final_prob', F.col('random_prob')*F.col('scaled_count'))"
      ]
    },
    {
      "cell_type": "code",
      "execution_count": null,
      "metadata": {
        "id": "b4zQisMdY81E",
        "colab": {
          "base_uri": "https://localhost:8080/"
        },
        "outputId": "37195587-e4ff-4baa-9bfc-7151add148b5"
      },
      "outputs": [
        {
          "output_type": "execute_result",
          "data": {
            "text/plain": [
              "331"
            ]
          },
          "metadata": {},
          "execution_count": 32
        }
      ],
      "source": [
        "filled_affiliations.select('affiliation_id').distinct().count()"
      ]
    },
    {
      "cell_type": "code",
      "execution_count": null,
      "metadata": {
        "id": "4vryeAaSEHRo",
        "colab": {
          "base_uri": "https://localhost:8080/"
        },
        "outputId": "d4ea91fa-25e9-491c-efd9-50918b3ea5d8"
      },
      "outputs": [
        {
          "output_type": "execute_result",
          "data": {
            "text/plain": [
              "[Row(original_affiliation='Dept. of Thoracic and Cardiovascular Surgery University of Mendoza Argentina', affiliation_id='100084298', random_prob=0.39526509100711327, id_count=147, scaled_count=0.9999722853183617, final_prob=0.39525413636095325),\n",
              " Row(original_affiliation='Dept. of Sociology and Anthropology Universidad de Mendoza Argentina', affiliation_id='100084298', random_prob=0.7961501486951794, id_count=147, scaled_count=0.9999722853183617, final_prob=0.7961280836472721)]"
            ]
          },
          "metadata": {},
          "execution_count": 33
        }
      ],
      "source": [
        "filled_affiliations.head(n=2)"
      ]
    },
    {
      "cell_type": "code",
      "execution_count": null,
      "metadata": {
        "id": "ONvrkrtzY81F",
        "colab": {
          "base_uri": "https://localhost:8080/"
        },
        "outputId": "9c34c483-c5a3-445a-c0f6-4c363e5d506b"
      },
      "outputs": [
        {
          "output_type": "stream",
          "name": "stdout",
          "text": [
            "(159, 6)\n",
            "                         original_affiliation affiliation_id  random_prob  \\\n",
            "0                                         IGN     1333839041     0.530564   \n",
            "1  Academia Nacional de Medicina Buenos Aires       14429277     0.447859   \n",
            "\n",
            "   id_count  scaled_count  final_prob  \n",
            "0        26      1.000007    0.530568  \n",
            "1        26      1.000007    0.447862  \n"
          ]
        }
      ],
      "source": [
        "less_than = filled_affiliations.dropDuplicates(subset=['affiliation_id']).filter(F.col('id_count') < num_samples_to_get).toPandas()\n",
        "\n",
        "less_than['affiliation_id'] = less_than['affiliation_id'].astype('str')\n",
        "less_than['affiliation_id'] = less_than['affiliation_id'].apply(lambda x: x.split(\"/\")[-1])\n",
        "\n",
        "print(less_than.shape)\n",
        "print(less_than.head(n=2))\n"
      ]
    },
    {
      "cell_type": "code",
      "execution_count": null,
      "metadata": {
        "id": "NNW5lQW_AjlB"
      },
      "outputs": [],
      "source": [
        "temp_df_list = []\n",
        "for aff_id in less_than['affiliation_id'].unique():\n",
        "    temp_df = less_than[less_than['affiliation_id']==aff_id].copy()\n",
        "    help_df = temp_df.sample(num_samples_to_get - temp_df.shape[0], replace=True)\n",
        "    temp_df_list.append(pd.concat([temp_df, help_df], axis=0))\n",
        "less_than_df = pd.concat(temp_df_list, axis=0)"
      ]
    },
    {
      "cell_type": "code",
      "execution_count": null,
      "metadata": {
        "id": "jCIJoZKXGVqE"
      },
      "outputs": [],
      "source": [
        "# only install fsspec and s3fs\n",
        "less_than_df[['original_affiliation', 'affiliation_id']].to_parquet(f\"{iteration_save_path}lower_than_{num_samples_to_get}.parquet\")\n",
        "w1 = Window.partitionBy('affiliation_id').orderBy('random_prob')\n",
        "\n",
        "more_than = filled_affiliations.filter(F.col('id_count') >= num_samples_to_get) \\\n",
        ".withColumn('row_number', F.row_number().over(w1)) \\\n",
        ".filter(F.col('row_number') <= num_samples_to_get+25)\n",
        "\n",
        "more_than.cache().count()\n",
        "more_than=more_than.toPandas()\n",
        "\n",
        "more_than['affiliation_id'] = more_than['affiliation_id'].astype('str')\n",
        "more_than['affiliation_id'] = more_than['affiliation_id'].apply(lambda x: x.split(\"/\")[-1])\n",
        "more_than[['original_affiliation', 'affiliation_id']].to_parquet(f\"{iteration_save_path}more_than_{num_samples_to_get}.parquet\")\n",
        "\n",
        "#more_than.select('original_affiliation', 'affiliation_id') \\\n",
        "#.coalesce(1).write.mode('overwrite').parquet(f\"{iteration_save_path}more_than_{num_samples_to_get}\")"
      ]
    },
    {
      "cell_type": "code",
      "execution_count": null,
      "metadata": {
        "id": "XSnRWfxzY81F",
        "colab": {
          "base_uri": "https://localhost:8080/"
        },
        "outputId": "4642830f-494b-46be-a79c-791347bd0522"
      },
      "outputs": [
        {
          "output_type": "stream",
          "name": "stdout",
          "text": [
            "                                  original_affiliation affiliation_id  \\\n",
            "44    Fundacion Via Libre, Cordoba, Cordoba, Argentina     4210107725   \n",
            "17                                    IFISUR Argentina     4210094172   \n",
            "127  Ministerio Publico Fiscal de la Ciudad Autonom...     4210150669   \n",
            "21                         IADT Buenos Aires Argentina     4210095433   \n",
            "100             ITeDA, Buenos Aires, Buenos Aires F.D.     4210136977   \n",
            "\n",
            "     random_prob  id_count  scaled_count  final_prob  \n",
            "44      0.036966        11      1.000011    0.036966  \n",
            "17      0.998913        26      1.000007    0.998919  \n",
            "127     0.353591        13      1.000011    0.353595  \n",
            "21      0.229268        26      1.000007    0.229270  \n",
            "100     0.411280        26      1.000007    0.411283  \n"
          ]
        }
      ],
      "source": [
        "print(less_than.sample(5))"
      ]
    },
    {
      "cell_type": "code",
      "execution_count": null,
      "metadata": {
        "id": "MeWkbarCY81I",
        "colab": {
          "base_uri": "https://localhost:8080/"
        },
        "outputId": "16d8bc14-0ba9-44a0-8ca1-04a3f487a1e6"
      },
      "outputs": [
        {
          "output_type": "execute_result",
          "data": {
            "text/plain": [
              "(7950, 6)"
            ]
          },
          "metadata": {},
          "execution_count": 39
        }
      ],
      "source": [
        "less_than_df.shape"
      ]
    },
    {
      "cell_type": "code",
      "execution_count": null,
      "metadata": {
        "id": "TKwwprZZlLKl",
        "colab": {
          "base_uri": "https://localhost:8080/"
        },
        "outputId": "73a8a8ed-2dac-432e-b604-32e0b89d3ab2"
      },
      "outputs": [
        {
          "output_type": "stream",
          "name": "stdout",
          "text": [
            "                                original_affiliation affiliation_id  \\\n",
            "0  Argentine Atlantis University Dept. of Mathema...     4210131417   \n",
            "1  School of Chemical Engineering & Technology Ar...     4210131417   \n",
            "2  Argentine Atlantis University Dep. of Surgery,...     4210131417   \n",
            "3                      Argentine Atlantis University     4210131417   \n",
            "4  Argentine Atlantis University Dep. of Politica...     4210131417   \n",
            "\n",
            "   random_prob  id_count  scaled_count  final_prob  row_number  \n",
            "0     0.004403       141      0.999974    0.004402           1  \n",
            "1     0.004745       141      0.999974    0.004745           2  \n",
            "2     0.010532       141      0.999974    0.010532           3  \n",
            "3     0.015843       141      0.999974    0.015843           4  \n",
            "4     0.020232       141      0.999974    0.020232           5  \n"
          ]
        }
      ],
      "source": [
        "print(more_than.head(5))"
      ]
    },
    {
      "cell_type": "code",
      "execution_count": null,
      "metadata": {
        "id": "Py2otP1tQoV1",
        "colab": {
          "base_uri": "https://localhost:8080/"
        },
        "outputId": "06185a4e-306b-4a24-ddca-0387ccf84d68"
      },
      "outputs": [
        {
          "output_type": "execute_result",
          "data": {
            "text/plain": [
              "(12653, 7)"
            ]
          },
          "metadata": {},
          "execution_count": 41
        }
      ],
      "source": [
        "more_than.shape"
      ]
    },
    {
      "cell_type": "code",
      "execution_count": null,
      "metadata": {
        "id": "mn5D7wioAS1w",
        "colab": {
          "base_uri": "https://localhost:8080/",
          "height": 519
        },
        "outputId": "a4488e6e-c438-45fd-8958-0c9db7d3aaa9"
      },
      "outputs": [
        {
          "output_type": "execute_result",
          "data": {
            "text/plain": [
              "                                 original_affiliation affiliation_id  \\\n",
              "0                                                 IGN     1333839041   \n",
              "1          Academia Nacional de Medicina Buenos Aires       14429277   \n",
              "2                                CONICET Buenos Aires      151201029   \n",
              "3             Fundacion Instituto Leloir Buenos Aires     2801749607   \n",
              "4                  Centro Atomico Bariloche Argentina     2883434090   \n",
              "5   Instituto Nacional de Tecnologia Industrial, B...       41147313   \n",
              "6                                      MACN Argentina     4210086432   \n",
              "7                                     CIMEC, Santa Fe     4210087179   \n",
              "8   Centro de Estudios para el Lujo Sustentable, A...     4210087318   \n",
              "9   Centro Cientifico Tecnologico del Consejo Naci...     4210087694   \n",
              "10                                                ICB     4210088229   \n",
              "11                                  IFIMAR, Argentina     4210089359   \n",
              "12                                     IATE Argentina     4210089990   \n",
              "13  Instituto Superior de Investigaciones Biologic...     4210091080   \n",
              "14  Ministerio de Educacion y Deportes de la Nacio...     4210092196   \n",
              "\n",
              "    random_prob  id_count  scaled_count  final_prob  \n",
              "0      0.530564        26      1.000007    0.530568  \n",
              "1      0.447859        26      1.000007    0.447862  \n",
              "2      0.003941        21      1.000008    0.003941  \n",
              "3      0.028276        13      1.000011    0.028276  \n",
              "4      0.037979        26      1.000007    0.037979  \n",
              "5      0.759744        39      1.000003    0.759746  \n",
              "6      0.730008        39      1.000003    0.730010  \n",
              "7      0.064041        21      1.000008    0.064042  \n",
              "8      0.945327        26      1.000007    0.945334  \n",
              "9      0.148214        21      1.000008    0.148215  \n",
              "10     0.375149        14      1.000010    0.375153  \n",
              "11     0.503328        26      1.000007    0.503332  \n",
              "12     0.395708        26      1.000007    0.395711  \n",
              "13     0.684685        26      1.000007    0.684690  \n",
              "14     0.570620        28      1.000006    0.570623  "
            ],
            "text/html": [
              "\n",
              "  <div id=\"df-539cc60b-f9eb-4fde-9dbb-19bf711659de\" class=\"colab-df-container\">\n",
              "    <div>\n",
              "<style scoped>\n",
              "    .dataframe tbody tr th:only-of-type {\n",
              "        vertical-align: middle;\n",
              "    }\n",
              "\n",
              "    .dataframe tbody tr th {\n",
              "        vertical-align: top;\n",
              "    }\n",
              "\n",
              "    .dataframe thead th {\n",
              "        text-align: right;\n",
              "    }\n",
              "</style>\n",
              "<table border=\"1\" class=\"dataframe\">\n",
              "  <thead>\n",
              "    <tr style=\"text-align: right;\">\n",
              "      <th></th>\n",
              "      <th>original_affiliation</th>\n",
              "      <th>affiliation_id</th>\n",
              "      <th>random_prob</th>\n",
              "      <th>id_count</th>\n",
              "      <th>scaled_count</th>\n",
              "      <th>final_prob</th>\n",
              "    </tr>\n",
              "  </thead>\n",
              "  <tbody>\n",
              "    <tr>\n",
              "      <th>0</th>\n",
              "      <td>IGN</td>\n",
              "      <td>1333839041</td>\n",
              "      <td>0.530564</td>\n",
              "      <td>26</td>\n",
              "      <td>1.000007</td>\n",
              "      <td>0.530568</td>\n",
              "    </tr>\n",
              "    <tr>\n",
              "      <th>1</th>\n",
              "      <td>Academia Nacional de Medicina Buenos Aires</td>\n",
              "      <td>14429277</td>\n",
              "      <td>0.447859</td>\n",
              "      <td>26</td>\n",
              "      <td>1.000007</td>\n",
              "      <td>0.447862</td>\n",
              "    </tr>\n",
              "    <tr>\n",
              "      <th>2</th>\n",
              "      <td>CONICET Buenos Aires</td>\n",
              "      <td>151201029</td>\n",
              "      <td>0.003941</td>\n",
              "      <td>21</td>\n",
              "      <td>1.000008</td>\n",
              "      <td>0.003941</td>\n",
              "    </tr>\n",
              "    <tr>\n",
              "      <th>3</th>\n",
              "      <td>Fundacion Instituto Leloir Buenos Aires</td>\n",
              "      <td>2801749607</td>\n",
              "      <td>0.028276</td>\n",
              "      <td>13</td>\n",
              "      <td>1.000011</td>\n",
              "      <td>0.028276</td>\n",
              "    </tr>\n",
              "    <tr>\n",
              "      <th>4</th>\n",
              "      <td>Centro Atomico Bariloche Argentina</td>\n",
              "      <td>2883434090</td>\n",
              "      <td>0.037979</td>\n",
              "      <td>26</td>\n",
              "      <td>1.000007</td>\n",
              "      <td>0.037979</td>\n",
              "    </tr>\n",
              "    <tr>\n",
              "      <th>5</th>\n",
              "      <td>Instituto Nacional de Tecnologia Industrial, B...</td>\n",
              "      <td>41147313</td>\n",
              "      <td>0.759744</td>\n",
              "      <td>39</td>\n",
              "      <td>1.000003</td>\n",
              "      <td>0.759746</td>\n",
              "    </tr>\n",
              "    <tr>\n",
              "      <th>6</th>\n",
              "      <td>MACN Argentina</td>\n",
              "      <td>4210086432</td>\n",
              "      <td>0.730008</td>\n",
              "      <td>39</td>\n",
              "      <td>1.000003</td>\n",
              "      <td>0.730010</td>\n",
              "    </tr>\n",
              "    <tr>\n",
              "      <th>7</th>\n",
              "      <td>CIMEC, Santa Fe</td>\n",
              "      <td>4210087179</td>\n",
              "      <td>0.064041</td>\n",
              "      <td>21</td>\n",
              "      <td>1.000008</td>\n",
              "      <td>0.064042</td>\n",
              "    </tr>\n",
              "    <tr>\n",
              "      <th>8</th>\n",
              "      <td>Centro de Estudios para el Lujo Sustentable, A...</td>\n",
              "      <td>4210087318</td>\n",
              "      <td>0.945327</td>\n",
              "      <td>26</td>\n",
              "      <td>1.000007</td>\n",
              "      <td>0.945334</td>\n",
              "    </tr>\n",
              "    <tr>\n",
              "      <th>9</th>\n",
              "      <td>Centro Cientifico Tecnologico del Consejo Naci...</td>\n",
              "      <td>4210087694</td>\n",
              "      <td>0.148214</td>\n",
              "      <td>21</td>\n",
              "      <td>1.000008</td>\n",
              "      <td>0.148215</td>\n",
              "    </tr>\n",
              "    <tr>\n",
              "      <th>10</th>\n",
              "      <td>ICB</td>\n",
              "      <td>4210088229</td>\n",
              "      <td>0.375149</td>\n",
              "      <td>14</td>\n",
              "      <td>1.000010</td>\n",
              "      <td>0.375153</td>\n",
              "    </tr>\n",
              "    <tr>\n",
              "      <th>11</th>\n",
              "      <td>IFIMAR, Argentina</td>\n",
              "      <td>4210089359</td>\n",
              "      <td>0.503328</td>\n",
              "      <td>26</td>\n",
              "      <td>1.000007</td>\n",
              "      <td>0.503332</td>\n",
              "    </tr>\n",
              "    <tr>\n",
              "      <th>12</th>\n",
              "      <td>IATE Argentina</td>\n",
              "      <td>4210089990</td>\n",
              "      <td>0.395708</td>\n",
              "      <td>26</td>\n",
              "      <td>1.000007</td>\n",
              "      <td>0.395711</td>\n",
              "    </tr>\n",
              "    <tr>\n",
              "      <th>13</th>\n",
              "      <td>Instituto Superior de Investigaciones Biologic...</td>\n",
              "      <td>4210091080</td>\n",
              "      <td>0.684685</td>\n",
              "      <td>26</td>\n",
              "      <td>1.000007</td>\n",
              "      <td>0.684690</td>\n",
              "    </tr>\n",
              "    <tr>\n",
              "      <th>14</th>\n",
              "      <td>Ministerio de Educacion y Deportes de la Nacio...</td>\n",
              "      <td>4210092196</td>\n",
              "      <td>0.570620</td>\n",
              "      <td>28</td>\n",
              "      <td>1.000006</td>\n",
              "      <td>0.570623</td>\n",
              "    </tr>\n",
              "  </tbody>\n",
              "</table>\n",
              "</div>\n",
              "    <div class=\"colab-df-buttons\">\n",
              "\n",
              "  <div class=\"colab-df-container\">\n",
              "    <button class=\"colab-df-convert\" onclick=\"convertToInteractive('df-539cc60b-f9eb-4fde-9dbb-19bf711659de')\"\n",
              "            title=\"Convert this dataframe to an interactive table.\"\n",
              "            style=\"display:none;\">\n",
              "\n",
              "  <svg xmlns=\"http://www.w3.org/2000/svg\" height=\"24px\" viewBox=\"0 -960 960 960\">\n",
              "    <path d=\"M120-120v-720h720v720H120Zm60-500h600v-160H180v160Zm220 220h160v-160H400v160Zm0 220h160v-160H400v160ZM180-400h160v-160H180v160Zm440 0h160v-160H620v160ZM180-180h160v-160H180v160Zm440 0h160v-160H620v160Z\"/>\n",
              "  </svg>\n",
              "    </button>\n",
              "\n",
              "  <style>\n",
              "    .colab-df-container {\n",
              "      display:flex;\n",
              "      gap: 12px;\n",
              "    }\n",
              "\n",
              "    .colab-df-convert {\n",
              "      background-color: #E8F0FE;\n",
              "      border: none;\n",
              "      border-radius: 50%;\n",
              "      cursor: pointer;\n",
              "      display: none;\n",
              "      fill: #1967D2;\n",
              "      height: 32px;\n",
              "      padding: 0 0 0 0;\n",
              "      width: 32px;\n",
              "    }\n",
              "\n",
              "    .colab-df-convert:hover {\n",
              "      background-color: #E2EBFA;\n",
              "      box-shadow: 0px 1px 2px rgba(60, 64, 67, 0.3), 0px 1px 3px 1px rgba(60, 64, 67, 0.15);\n",
              "      fill: #174EA6;\n",
              "    }\n",
              "\n",
              "    .colab-df-buttons div {\n",
              "      margin-bottom: 4px;\n",
              "    }\n",
              "\n",
              "    [theme=dark] .colab-df-convert {\n",
              "      background-color: #3B4455;\n",
              "      fill: #D2E3FC;\n",
              "    }\n",
              "\n",
              "    [theme=dark] .colab-df-convert:hover {\n",
              "      background-color: #434B5C;\n",
              "      box-shadow: 0px 1px 3px 1px rgba(0, 0, 0, 0.15);\n",
              "      filter: drop-shadow(0px 1px 2px rgba(0, 0, 0, 0.3));\n",
              "      fill: #FFFFFF;\n",
              "    }\n",
              "  </style>\n",
              "\n",
              "    <script>\n",
              "      const buttonEl =\n",
              "        document.querySelector('#df-539cc60b-f9eb-4fde-9dbb-19bf711659de button.colab-df-convert');\n",
              "      buttonEl.style.display =\n",
              "        google.colab.kernel.accessAllowed ? 'block' : 'none';\n",
              "\n",
              "      async function convertToInteractive(key) {\n",
              "        const element = document.querySelector('#df-539cc60b-f9eb-4fde-9dbb-19bf711659de');\n",
              "        const dataTable =\n",
              "          await google.colab.kernel.invokeFunction('convertToInteractive',\n",
              "                                                    [key], {});\n",
              "        if (!dataTable) return;\n",
              "\n",
              "        const docLinkHtml = 'Like what you see? Visit the ' +\n",
              "          '<a target=\"_blank\" href=https://colab.research.google.com/notebooks/data_table.ipynb>data table notebook</a>'\n",
              "          + ' to learn more about interactive tables.';\n",
              "        element.innerHTML = '';\n",
              "        dataTable['output_type'] = 'display_data';\n",
              "        await google.colab.output.renderOutput(dataTable, element);\n",
              "        const docLink = document.createElement('div');\n",
              "        docLink.innerHTML = docLinkHtml;\n",
              "        element.appendChild(docLink);\n",
              "      }\n",
              "    </script>\n",
              "  </div>\n",
              "\n",
              "\n",
              "<div id=\"df-a9683be8-3310-4c93-94e3-efbf14bdf821\">\n",
              "  <button class=\"colab-df-quickchart\" onclick=\"quickchart('df-a9683be8-3310-4c93-94e3-efbf14bdf821')\"\n",
              "            title=\"Suggest charts\"\n",
              "            style=\"display:none;\">\n",
              "\n",
              "<svg xmlns=\"http://www.w3.org/2000/svg\" height=\"24px\"viewBox=\"0 0 24 24\"\n",
              "     width=\"24px\">\n",
              "    <g>\n",
              "        <path d=\"M19 3H5c-1.1 0-2 .9-2 2v14c0 1.1.9 2 2 2h14c1.1 0 2-.9 2-2V5c0-1.1-.9-2-2-2zM9 17H7v-7h2v7zm4 0h-2V7h2v10zm4 0h-2v-4h2v4z\"/>\n",
              "    </g>\n",
              "</svg>\n",
              "  </button>\n",
              "\n",
              "<style>\n",
              "  .colab-df-quickchart {\n",
              "      --bg-color: #E8F0FE;\n",
              "      --fill-color: #1967D2;\n",
              "      --hover-bg-color: #E2EBFA;\n",
              "      --hover-fill-color: #174EA6;\n",
              "      --disabled-fill-color: #AAA;\n",
              "      --disabled-bg-color: #DDD;\n",
              "  }\n",
              "\n",
              "  [theme=dark] .colab-df-quickchart {\n",
              "      --bg-color: #3B4455;\n",
              "      --fill-color: #D2E3FC;\n",
              "      --hover-bg-color: #434B5C;\n",
              "      --hover-fill-color: #FFFFFF;\n",
              "      --disabled-bg-color: #3B4455;\n",
              "      --disabled-fill-color: #666;\n",
              "  }\n",
              "\n",
              "  .colab-df-quickchart {\n",
              "    background-color: var(--bg-color);\n",
              "    border: none;\n",
              "    border-radius: 50%;\n",
              "    cursor: pointer;\n",
              "    display: none;\n",
              "    fill: var(--fill-color);\n",
              "    height: 32px;\n",
              "    padding: 0;\n",
              "    width: 32px;\n",
              "  }\n",
              "\n",
              "  .colab-df-quickchart:hover {\n",
              "    background-color: var(--hover-bg-color);\n",
              "    box-shadow: 0 1px 2px rgba(60, 64, 67, 0.3), 0 1px 3px 1px rgba(60, 64, 67, 0.15);\n",
              "    fill: var(--button-hover-fill-color);\n",
              "  }\n",
              "\n",
              "  .colab-df-quickchart-complete:disabled,\n",
              "  .colab-df-quickchart-complete:disabled:hover {\n",
              "    background-color: var(--disabled-bg-color);\n",
              "    fill: var(--disabled-fill-color);\n",
              "    box-shadow: none;\n",
              "  }\n",
              "\n",
              "  .colab-df-spinner {\n",
              "    border: 2px solid var(--fill-color);\n",
              "    border-color: transparent;\n",
              "    border-bottom-color: var(--fill-color);\n",
              "    animation:\n",
              "      spin 1s steps(1) infinite;\n",
              "  }\n",
              "\n",
              "  @keyframes spin {\n",
              "    0% {\n",
              "      border-color: transparent;\n",
              "      border-bottom-color: var(--fill-color);\n",
              "      border-left-color: var(--fill-color);\n",
              "    }\n",
              "    20% {\n",
              "      border-color: transparent;\n",
              "      border-left-color: var(--fill-color);\n",
              "      border-top-color: var(--fill-color);\n",
              "    }\n",
              "    30% {\n",
              "      border-color: transparent;\n",
              "      border-left-color: var(--fill-color);\n",
              "      border-top-color: var(--fill-color);\n",
              "      border-right-color: var(--fill-color);\n",
              "    }\n",
              "    40% {\n",
              "      border-color: transparent;\n",
              "      border-right-color: var(--fill-color);\n",
              "      border-top-color: var(--fill-color);\n",
              "    }\n",
              "    60% {\n",
              "      border-color: transparent;\n",
              "      border-right-color: var(--fill-color);\n",
              "    }\n",
              "    80% {\n",
              "      border-color: transparent;\n",
              "      border-right-color: var(--fill-color);\n",
              "      border-bottom-color: var(--fill-color);\n",
              "    }\n",
              "    90% {\n",
              "      border-color: transparent;\n",
              "      border-bottom-color: var(--fill-color);\n",
              "    }\n",
              "  }\n",
              "</style>\n",
              "\n",
              "  <script>\n",
              "    async function quickchart(key) {\n",
              "      const quickchartButtonEl =\n",
              "        document.querySelector('#' + key + ' button');\n",
              "      quickchartButtonEl.disabled = true;  // To prevent multiple clicks.\n",
              "      quickchartButtonEl.classList.add('colab-df-spinner');\n",
              "      try {\n",
              "        const charts = await google.colab.kernel.invokeFunction(\n",
              "            'suggestCharts', [key], {});\n",
              "      } catch (error) {\n",
              "        console.error('Error during call to suggestCharts:', error);\n",
              "      }\n",
              "      quickchartButtonEl.classList.remove('colab-df-spinner');\n",
              "      quickchartButtonEl.classList.add('colab-df-quickchart-complete');\n",
              "    }\n",
              "    (() => {\n",
              "      let quickchartButtonEl =\n",
              "        document.querySelector('#df-a9683be8-3310-4c93-94e3-efbf14bdf821 button');\n",
              "      quickchartButtonEl.style.display =\n",
              "        google.colab.kernel.accessAllowed ? 'block' : 'none';\n",
              "    })();\n",
              "  </script>\n",
              "</div>\n",
              "\n",
              "    </div>\n",
              "  </div>\n"
            ],
            "application/vnd.google.colaboratory.intrinsic+json": {
              "type": "dataframe",
              "summary": "{\n  \"name\": \"less_than\",\n  \"rows\": 15,\n  \"fields\": [\n    {\n      \"column\": \"original_affiliation\",\n      \"properties\": {\n        \"dtype\": \"string\",\n        \"num_unique_values\": 15,\n        \"samples\": [\n          \"Centro Cientifico Tecnologico del Consejo Nacional de Investigaciones Cientificas y Tecnicas, Santa Fe, Argentina\",\n          \"IFIMAR, Argentina\",\n          \"IGN\"\n        ],\n        \"semantic_type\": \"\",\n        \"description\": \"\"\n      }\n    },\n    {\n      \"column\": \"affiliation_id\",\n      \"properties\": {\n        \"dtype\": \"string\",\n        \"num_unique_values\": 15,\n        \"samples\": [\n          \"4210087694\",\n          \"4210089359\",\n          \"1333839041\"\n        ],\n        \"semantic_type\": \"\",\n        \"description\": \"\"\n      }\n    },\n    {\n      \"column\": \"random_prob\",\n      \"properties\": {\n        \"dtype\": \"number\",\n        \"std\": 0.3018379746414841,\n        \"min\": 0.0039412388945014865,\n        \"max\": 0.9453273253002208,\n        \"num_unique_values\": 15,\n        \"samples\": [\n          0.1482137147647955,\n          0.503328345670424,\n          0.5305639988945232\n        ],\n        \"semantic_type\": \"\",\n        \"description\": \"\"\n      }\n    },\n    {\n      \"column\": \"id_count\",\n      \"properties\": {\n        \"dtype\": \"number\",\n        \"std\": 7,\n        \"min\": 13,\n        \"max\": 39,\n        \"num_unique_values\": 6,\n        \"samples\": [\n          26,\n          21,\n          28\n        ],\n        \"semantic_type\": \"\",\n        \"description\": \"\"\n      }\n    },\n    {\n      \"column\": \"scaled_count\",\n      \"properties\": {\n        \"dtype\": \"number\",\n        \"std\": 2.04956168714684e-06,\n        \"min\": 1.0000031429020415,\n        \"max\": 1.000010571579594,\n        \"num_unique_values\": 6,\n        \"samples\": [\n          1.0000068572408178,\n          1.0000082858326547,\n          1.000006285804083\n        ],\n        \"semantic_type\": \"\",\n        \"description\": \"\"\n      }\n    },\n    {\n      \"column\": \"final_prob\",\n      \"properties\": {\n        \"dtype\": \"number\",\n        \"std\": 0.3018395568347329,\n        \"min\": 0.003941271550947418,\n        \"max\": 0.9453338076373421,\n        \"num_unique_values\": 15,\n        \"samples\": [\n          0.14821494283883316,\n          0.5033317971141007,\n          0.530567637099633\n        ],\n        \"semantic_type\": \"\",\n        \"description\": \"\"\n      }\n    }\n  ]\n}"
            }
          },
          "metadata": {},
          "execution_count": 44
        }
      ],
      "source": [
        "less_than.sort_values(by=['affiliation_id']).head(15)"
      ]
    },
    {
      "cell_type": "code",
      "source": [
        "more_than.sort_values(by=['affiliation_id']).head()"
      ],
      "metadata": {
        "id": "2JAhVxpM_NRJ",
        "colab": {
          "base_uri": "https://localhost:8080/",
          "height": 206
        },
        "outputId": "745f2db5-bfa6-429a-9f25-6befe5bf6e50"
      },
      "execution_count": null,
      "outputs": [
        {
          "output_type": "execute_result",
          "data": {
            "text/plain": [
              "                                   original_affiliation affiliation_id  \\\n",
              "6451  Department of Surgery Universidad de Mendoza, ...      100084298   \n",
              "6403             Dep of Psychology UM Mendoza Argentina      100084298   \n",
              "6404       Sch. of Design University of Mendoza Mendoza      100084298   \n",
              "6405            University of Mendoza Mendoza Argentina      100084298   \n",
              "6406  Dept of Psychology University of Mendoza Argen...      100084298   \n",
              "\n",
              "      random_prob  id_count  scaled_count  final_prob  row_number  \n",
              "6451     0.551235       147      0.999972    0.551220          70  \n",
              "6403     0.191611       147      0.999972    0.191606          22  \n",
              "6404     0.196534       147      0.999972    0.196529          23  \n",
              "6405     0.198086       147      0.999972    0.198081          24  \n",
              "6406     0.206674       147      0.999972    0.206669          25  "
            ],
            "text/html": [
              "\n",
              "  <div id=\"df-146c3a64-c828-4b1a-8d91-f648393113c1\" class=\"colab-df-container\">\n",
              "    <div>\n",
              "<style scoped>\n",
              "    .dataframe tbody tr th:only-of-type {\n",
              "        vertical-align: middle;\n",
              "    }\n",
              "\n",
              "    .dataframe tbody tr th {\n",
              "        vertical-align: top;\n",
              "    }\n",
              "\n",
              "    .dataframe thead th {\n",
              "        text-align: right;\n",
              "    }\n",
              "</style>\n",
              "<table border=\"1\" class=\"dataframe\">\n",
              "  <thead>\n",
              "    <tr style=\"text-align: right;\">\n",
              "      <th></th>\n",
              "      <th>original_affiliation</th>\n",
              "      <th>affiliation_id</th>\n",
              "      <th>random_prob</th>\n",
              "      <th>id_count</th>\n",
              "      <th>scaled_count</th>\n",
              "      <th>final_prob</th>\n",
              "      <th>row_number</th>\n",
              "    </tr>\n",
              "  </thead>\n",
              "  <tbody>\n",
              "    <tr>\n",
              "      <th>6451</th>\n",
              "      <td>Department of Surgery Universidad de Mendoza, ...</td>\n",
              "      <td>100084298</td>\n",
              "      <td>0.551235</td>\n",
              "      <td>147</td>\n",
              "      <td>0.999972</td>\n",
              "      <td>0.551220</td>\n",
              "      <td>70</td>\n",
              "    </tr>\n",
              "    <tr>\n",
              "      <th>6403</th>\n",
              "      <td>Dep of Psychology UM Mendoza Argentina</td>\n",
              "      <td>100084298</td>\n",
              "      <td>0.191611</td>\n",
              "      <td>147</td>\n",
              "      <td>0.999972</td>\n",
              "      <td>0.191606</td>\n",
              "      <td>22</td>\n",
              "    </tr>\n",
              "    <tr>\n",
              "      <th>6404</th>\n",
              "      <td>Sch. of Design University of Mendoza Mendoza</td>\n",
              "      <td>100084298</td>\n",
              "      <td>0.196534</td>\n",
              "      <td>147</td>\n",
              "      <td>0.999972</td>\n",
              "      <td>0.196529</td>\n",
              "      <td>23</td>\n",
              "    </tr>\n",
              "    <tr>\n",
              "      <th>6405</th>\n",
              "      <td>University of Mendoza Mendoza Argentina</td>\n",
              "      <td>100084298</td>\n",
              "      <td>0.198086</td>\n",
              "      <td>147</td>\n",
              "      <td>0.999972</td>\n",
              "      <td>0.198081</td>\n",
              "      <td>24</td>\n",
              "    </tr>\n",
              "    <tr>\n",
              "      <th>6406</th>\n",
              "      <td>Dept of Psychology University of Mendoza Argen...</td>\n",
              "      <td>100084298</td>\n",
              "      <td>0.206674</td>\n",
              "      <td>147</td>\n",
              "      <td>0.999972</td>\n",
              "      <td>0.206669</td>\n",
              "      <td>25</td>\n",
              "    </tr>\n",
              "  </tbody>\n",
              "</table>\n",
              "</div>\n",
              "    <div class=\"colab-df-buttons\">\n",
              "\n",
              "  <div class=\"colab-df-container\">\n",
              "    <button class=\"colab-df-convert\" onclick=\"convertToInteractive('df-146c3a64-c828-4b1a-8d91-f648393113c1')\"\n",
              "            title=\"Convert this dataframe to an interactive table.\"\n",
              "            style=\"display:none;\">\n",
              "\n",
              "  <svg xmlns=\"http://www.w3.org/2000/svg\" height=\"24px\" viewBox=\"0 -960 960 960\">\n",
              "    <path d=\"M120-120v-720h720v720H120Zm60-500h600v-160H180v160Zm220 220h160v-160H400v160Zm0 220h160v-160H400v160ZM180-400h160v-160H180v160Zm440 0h160v-160H620v160ZM180-180h160v-160H180v160Zm440 0h160v-160H620v160Z\"/>\n",
              "  </svg>\n",
              "    </button>\n",
              "\n",
              "  <style>\n",
              "    .colab-df-container {\n",
              "      display:flex;\n",
              "      gap: 12px;\n",
              "    }\n",
              "\n",
              "    .colab-df-convert {\n",
              "      background-color: #E8F0FE;\n",
              "      border: none;\n",
              "      border-radius: 50%;\n",
              "      cursor: pointer;\n",
              "      display: none;\n",
              "      fill: #1967D2;\n",
              "      height: 32px;\n",
              "      padding: 0 0 0 0;\n",
              "      width: 32px;\n",
              "    }\n",
              "\n",
              "    .colab-df-convert:hover {\n",
              "      background-color: #E2EBFA;\n",
              "      box-shadow: 0px 1px 2px rgba(60, 64, 67, 0.3), 0px 1px 3px 1px rgba(60, 64, 67, 0.15);\n",
              "      fill: #174EA6;\n",
              "    }\n",
              "\n",
              "    .colab-df-buttons div {\n",
              "      margin-bottom: 4px;\n",
              "    }\n",
              "\n",
              "    [theme=dark] .colab-df-convert {\n",
              "      background-color: #3B4455;\n",
              "      fill: #D2E3FC;\n",
              "    }\n",
              "\n",
              "    [theme=dark] .colab-df-convert:hover {\n",
              "      background-color: #434B5C;\n",
              "      box-shadow: 0px 1px 3px 1px rgba(0, 0, 0, 0.15);\n",
              "      filter: drop-shadow(0px 1px 2px rgba(0, 0, 0, 0.3));\n",
              "      fill: #FFFFFF;\n",
              "    }\n",
              "  </style>\n",
              "\n",
              "    <script>\n",
              "      const buttonEl =\n",
              "        document.querySelector('#df-146c3a64-c828-4b1a-8d91-f648393113c1 button.colab-df-convert');\n",
              "      buttonEl.style.display =\n",
              "        google.colab.kernel.accessAllowed ? 'block' : 'none';\n",
              "\n",
              "      async function convertToInteractive(key) {\n",
              "        const element = document.querySelector('#df-146c3a64-c828-4b1a-8d91-f648393113c1');\n",
              "        const dataTable =\n",
              "          await google.colab.kernel.invokeFunction('convertToInteractive',\n",
              "                                                    [key], {});\n",
              "        if (!dataTable) return;\n",
              "\n",
              "        const docLinkHtml = 'Like what you see? Visit the ' +\n",
              "          '<a target=\"_blank\" href=https://colab.research.google.com/notebooks/data_table.ipynb>data table notebook</a>'\n",
              "          + ' to learn more about interactive tables.';\n",
              "        element.innerHTML = '';\n",
              "        dataTable['output_type'] = 'display_data';\n",
              "        await google.colab.output.renderOutput(dataTable, element);\n",
              "        const docLink = document.createElement('div');\n",
              "        docLink.innerHTML = docLinkHtml;\n",
              "        element.appendChild(docLink);\n",
              "      }\n",
              "    </script>\n",
              "  </div>\n",
              "\n",
              "\n",
              "<div id=\"df-7db56d83-b17c-4e2d-b9e5-d36c47a86fca\">\n",
              "  <button class=\"colab-df-quickchart\" onclick=\"quickchart('df-7db56d83-b17c-4e2d-b9e5-d36c47a86fca')\"\n",
              "            title=\"Suggest charts\"\n",
              "            style=\"display:none;\">\n",
              "\n",
              "<svg xmlns=\"http://www.w3.org/2000/svg\" height=\"24px\"viewBox=\"0 0 24 24\"\n",
              "     width=\"24px\">\n",
              "    <g>\n",
              "        <path d=\"M19 3H5c-1.1 0-2 .9-2 2v14c0 1.1.9 2 2 2h14c1.1 0 2-.9 2-2V5c0-1.1-.9-2-2-2zM9 17H7v-7h2v7zm4 0h-2V7h2v10zm4 0h-2v-4h2v4z\"/>\n",
              "    </g>\n",
              "</svg>\n",
              "  </button>\n",
              "\n",
              "<style>\n",
              "  .colab-df-quickchart {\n",
              "      --bg-color: #E8F0FE;\n",
              "      --fill-color: #1967D2;\n",
              "      --hover-bg-color: #E2EBFA;\n",
              "      --hover-fill-color: #174EA6;\n",
              "      --disabled-fill-color: #AAA;\n",
              "      --disabled-bg-color: #DDD;\n",
              "  }\n",
              "\n",
              "  [theme=dark] .colab-df-quickchart {\n",
              "      --bg-color: #3B4455;\n",
              "      --fill-color: #D2E3FC;\n",
              "      --hover-bg-color: #434B5C;\n",
              "      --hover-fill-color: #FFFFFF;\n",
              "      --disabled-bg-color: #3B4455;\n",
              "      --disabled-fill-color: #666;\n",
              "  }\n",
              "\n",
              "  .colab-df-quickchart {\n",
              "    background-color: var(--bg-color);\n",
              "    border: none;\n",
              "    border-radius: 50%;\n",
              "    cursor: pointer;\n",
              "    display: none;\n",
              "    fill: var(--fill-color);\n",
              "    height: 32px;\n",
              "    padding: 0;\n",
              "    width: 32px;\n",
              "  }\n",
              "\n",
              "  .colab-df-quickchart:hover {\n",
              "    background-color: var(--hover-bg-color);\n",
              "    box-shadow: 0 1px 2px rgba(60, 64, 67, 0.3), 0 1px 3px 1px rgba(60, 64, 67, 0.15);\n",
              "    fill: var(--button-hover-fill-color);\n",
              "  }\n",
              "\n",
              "  .colab-df-quickchart-complete:disabled,\n",
              "  .colab-df-quickchart-complete:disabled:hover {\n",
              "    background-color: var(--disabled-bg-color);\n",
              "    fill: var(--disabled-fill-color);\n",
              "    box-shadow: none;\n",
              "  }\n",
              "\n",
              "  .colab-df-spinner {\n",
              "    border: 2px solid var(--fill-color);\n",
              "    border-color: transparent;\n",
              "    border-bottom-color: var(--fill-color);\n",
              "    animation:\n",
              "      spin 1s steps(1) infinite;\n",
              "  }\n",
              "\n",
              "  @keyframes spin {\n",
              "    0% {\n",
              "      border-color: transparent;\n",
              "      border-bottom-color: var(--fill-color);\n",
              "      border-left-color: var(--fill-color);\n",
              "    }\n",
              "    20% {\n",
              "      border-color: transparent;\n",
              "      border-left-color: var(--fill-color);\n",
              "      border-top-color: var(--fill-color);\n",
              "    }\n",
              "    30% {\n",
              "      border-color: transparent;\n",
              "      border-left-color: var(--fill-color);\n",
              "      border-top-color: var(--fill-color);\n",
              "      border-right-color: var(--fill-color);\n",
              "    }\n",
              "    40% {\n",
              "      border-color: transparent;\n",
              "      border-right-color: var(--fill-color);\n",
              "      border-top-color: var(--fill-color);\n",
              "    }\n",
              "    60% {\n",
              "      border-color: transparent;\n",
              "      border-right-color: var(--fill-color);\n",
              "    }\n",
              "    80% {\n",
              "      border-color: transparent;\n",
              "      border-right-color: var(--fill-color);\n",
              "      border-bottom-color: var(--fill-color);\n",
              "    }\n",
              "    90% {\n",
              "      border-color: transparent;\n",
              "      border-bottom-color: var(--fill-color);\n",
              "    }\n",
              "  }\n",
              "</style>\n",
              "\n",
              "  <script>\n",
              "    async function quickchart(key) {\n",
              "      const quickchartButtonEl =\n",
              "        document.querySelector('#' + key + ' button');\n",
              "      quickchartButtonEl.disabled = true;  // To prevent multiple clicks.\n",
              "      quickchartButtonEl.classList.add('colab-df-spinner');\n",
              "      try {\n",
              "        const charts = await google.colab.kernel.invokeFunction(\n",
              "            'suggestCharts', [key], {});\n",
              "      } catch (error) {\n",
              "        console.error('Error during call to suggestCharts:', error);\n",
              "      }\n",
              "      quickchartButtonEl.classList.remove('colab-df-spinner');\n",
              "      quickchartButtonEl.classList.add('colab-df-quickchart-complete');\n",
              "    }\n",
              "    (() => {\n",
              "      let quickchartButtonEl =\n",
              "        document.querySelector('#df-7db56d83-b17c-4e2d-b9e5-d36c47a86fca button');\n",
              "      quickchartButtonEl.style.display =\n",
              "        google.colab.kernel.accessAllowed ? 'block' : 'none';\n",
              "    })();\n",
              "  </script>\n",
              "</div>\n",
              "\n",
              "    </div>\n",
              "  </div>\n"
            ],
            "application/vnd.google.colaboratory.intrinsic+json": {
              "type": "dataframe",
              "summary": "{\n  \"name\": \"more_than\",\n  \"rows\": 5,\n  \"fields\": [\n    {\n      \"column\": \"original_affiliation\",\n      \"properties\": {\n        \"dtype\": \"string\",\n        \"num_unique_values\": 5,\n        \"samples\": [\n          \"Dep of Psychology UM Mendoza Argentina\",\n          \"Dept of Psychology University of Mendoza Argentina\",\n          \"Sch. of Design University of Mendoza Mendoza\"\n        ],\n        \"semantic_type\": \"\",\n        \"description\": \"\"\n      }\n    },\n    {\n      \"column\": \"affiliation_id\",\n      \"properties\": {\n        \"dtype\": \"category\",\n        \"num_unique_values\": 1,\n        \"samples\": [\n          \"100084298\"\n        ],\n        \"semantic_type\": \"\",\n        \"description\": \"\"\n      }\n    },\n    {\n      \"column\": \"random_prob\",\n      \"properties\": {\n        \"dtype\": \"number\",\n        \"std\": 0.15796376139147703,\n        \"min\": 0.19161142396895492,\n        \"max\": 0.551235374018409,\n        \"num_unique_values\": 5,\n        \"samples\": [\n          0.19161142396895492\n        ],\n        \"semantic_type\": \"\",\n        \"description\": \"\"\n      }\n    },\n    {\n      \"column\": \"id_count\",\n      \"properties\": {\n        \"dtype\": \"number\",\n        \"std\": 0,\n        \"min\": 147,\n        \"max\": 147,\n        \"num_unique_values\": 1,\n        \"samples\": [\n          147\n        ],\n        \"semantic_type\": \"\",\n        \"description\": \"\"\n      }\n    },\n    {\n      \"column\": \"scaled_count\",\n      \"properties\": {\n        \"dtype\": \"number\",\n        \"std\": 0.0,\n        \"min\": 0.9999722853183617,\n        \"max\": 0.9999722853183617,\n        \"num_unique_values\": 1,\n        \"samples\": [\n          0.9999722853183617\n        ],\n        \"semantic_type\": \"\",\n        \"description\": \"\"\n      }\n    },\n    {\n      \"column\": \"final_prob\",\n      \"properties\": {\n        \"dtype\": \"number\",\n        \"std\": 0.15795938347611965,\n        \"min\": 0.19160611351934134,\n        \"max\": 0.5512200967055103,\n        \"num_unique_values\": 5,\n        \"samples\": [\n          0.19160611351934134\n        ],\n        \"semantic_type\": \"\",\n        \"description\": \"\"\n      }\n    },\n    {\n      \"column\": \"row_number\",\n      \"properties\": {\n        \"dtype\": \"int32\",\n        \"num_unique_values\": 5,\n        \"samples\": [\n          22\n        ],\n        \"semantic_type\": \"\",\n        \"description\": \"\"\n      }\n    }\n  ]\n}"
            }
          },
          "metadata": {},
          "execution_count": 43
        }
      ]
    },
    {
      "cell_type": "code",
      "execution_count": null,
      "metadata": {
        "id": "U_HJ4jePUrq4"
      },
      "outputs": [],
      "source": [
        "##comentar en script\n",
        "##!colab-convert /content/drive/MyDrive/openalex-institution-parsing/V2/002_Model/Notebooks/001_get_training_data_SPARK.ipynb /content/drive/MyDrive/openalex-institution-parsing/V2/002_Model/Notebooks/001_get_training_data_SPARK.py"
      ]
    },
    {
      "cell_type": "code",
      "execution_count": null,
      "metadata": {
        "id": "vvxHe3nW97B6",
        "colab": {
          "base_uri": "https://localhost:8080/"
        },
        "outputId": "6d0633cb-a641-4c4e-ed1a-1d64fdd84256"
      },
      "outputs": [
        {
          "output_type": "stream",
          "name": "stdout",
          "text": [
            "Terminó\n"
          ]
        }
      ],
      "source": [
        "print(\"Terminó\")"
      ]
    }
  ],
  "metadata": {
    "accelerator": "GPU",
    "application/vnd.databricks.v1+notebook": {
      "dashboards": [],
      "language": "python",
      "notebookMetadata": {
        "pythonIndentUnit": 4
      },
      "notebookName": "institutional_affiliation_classification_V25_all_strings",
      "notebookOrigID": 1621990259572172,
      "widgets": {}
    },
    "colab": {
      "gpuType": "T4",
      "provenance": [],
      "include_colab_link": true
    },
    "kernelspec": {
      "display_name": "Python 3",
      "name": "python3"
    },
    "language_info": {
      "codemirror_mode": {
        "name": "ipython",
        "version": 3
      },
      "file_extension": ".py",
      "mimetype": "text/x-python",
      "name": "python",
      "nbconvert_exporter": "python",
      "pygments_lexer": "ipython3",
      "version": "3.8.12"
    }
  },
  "nbformat": 4,
  "nbformat_minor": 0
}